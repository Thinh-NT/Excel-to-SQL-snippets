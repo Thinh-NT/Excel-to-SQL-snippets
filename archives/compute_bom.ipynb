{
 "cells": [
  {
   "cell_type": "code",
   "execution_count": 1,
   "metadata": {},
   "outputs": [],
   "source": [
    "import pandas as pd\n",
    "\n",
    "file_name = 'BOM MAY-NOVEMBER.xlsb'\n",
    "df = pd.concat(pd.read_excel(\n",
    "                file_name, sheet_name=None, header=4, usecols=['Level', 'Parent', 'Component', 'Quantity']\n",
    "            ), ignore_index=True)\n",
    "            \n",
    "# df['Level'] = df['Level'].replace('0', 0)\n",
    "df.drop(df[(pd.isna(df['Level']))].index, inplace=True)\n",
    "\n",
    "# current = None\n",
    "# lst= []\n",
    "# for index, row in enumerate(zip(df['Parent']), start=0):\n",
    "#     if row[0] == current:\n",
    "#         lst.append(index)\n",
    "#     current = row[0]\n",
    "\n",
    "# result = df.drop(df.index[[lst]])\n",
    "\n",
    "# result.to_excel('what.xlsx')\n"
   ]
  },
  {
   "cell_type": "code",
   "execution_count": null,
   "metadata": {},
   "outputs": [],
   "source": [
    "\n"
   ]
  },
  {
   "cell_type": "code",
   "execution_count": 3,
   "metadata": {},
   "outputs": [
    {
     "name": "stdout",
     "output_type": "stream",
     "text": [
      "Yes\n",
      "No\n",
      "No\n",
      "No\n",
      "No\n",
      "No\n"
     ]
    }
   ],
   "source": [
    "result = pd.DataFrame()\n",
    "for x in df['Level'].unique():\n",
    "    if x == 0:\n",
    "        print('Yes')\n",
    "    else:\n",
    "        print('No')\n",
    "    current = None\n",
    "    lst = []\n",
    "    temp_df = df[df['Level'].isin(['0', x])]\n",
    "    for index, row in enumerate(zip(temp_df['Parent']), start=0):\n",
    "        if row[0] == current:\n",
    "            lst.append(index)\n",
    "        current = row[0]\n",
    "    temp_df = temp_df.drop(temp_df.index[[lst]])\n",
    "    result = pd.concat([result, temp_df])"
   ]
  },
  {
   "cell_type": "code",
   "execution_count": 31,
   "metadata": {},
   "outputs": [],
   "source": [
    "result\n",
    "result = result.groupby(['Parent']).agg(\n",
    "            {'Component': 'count'})"
   ]
  },
  {
   "cell_type": "code",
   "execution_count": 32,
   "metadata": {},
   "outputs": [],
   "source": []
  },
  {
   "cell_type": "code",
   "execution_count": null,
   "metadata": {},
   "outputs": [],
   "source": []
  }
 ],
 "metadata": {
  "interpreter": {
   "hash": "07848780a58b79594e764c069cbda879259c8dd4f8d3e2f88df491e961ef6dc8"
  },
  "kernelspec": {
   "display_name": "Python 3.9.6 64-bit ('env': venv)",
   "language": "python",
   "name": "python3"
  },
  "language_info": {
   "codemirror_mode": {
    "name": "ipython",
    "version": 3
   },
   "file_extension": ".py",
   "mimetype": "text/x-python",
   "name": "python",
   "nbconvert_exporter": "python",
   "pygments_lexer": "ipython3",
   "version": "3.10.1"
  },
  "orig_nbformat": 4
 },
 "nbformat": 4,
 "nbformat_minor": 2
}
