{
 "cells": [
  {
   "cell_type": "code",
   "execution_count": null,
   "id": "79c93606",
   "metadata": {},
   "outputs": [],
   "source": [
    "import pandas as pd"
   ]
  },
  {
   "cell_type": "code",
   "execution_count": null,
   "id": "7703e0e7",
   "metadata": {},
   "outputs": [],
   "source": [
    "pd.set_option('display.max_columns', 45)\n",
    "pd.set_option('display.max_rows', 50)"
   ]
  },
  {
   "cell_type": "code",
   "execution_count": null,
   "id": "eb6085d0",
   "metadata": {},
   "outputs": [],
   "source": [
    "item_master = pd.read_excel(r\"data/item_master.xlsx\", index_col=False, header=1)\n",
    "material_history = pd.read_excel('data/Material Movement History.xlsx', index_col=False, header=1)"
   ]
  },
  {
   "cell_type": "code",
   "execution_count": null,
   "id": "0f8b1bcf",
   "metadata": {},
   "outputs": [],
   "source": [
    "item_master"
   ]
  },
  {
   "cell_type": "code",
   "execution_count": null,
   "id": "f71ee0e4",
   "metadata": {},
   "outputs": [],
   "source": [
    "material_history"
   ]
  },
  {
   "cell_type": "code",
   "execution_count": null,
   "id": "fc795d41",
   "metadata": {},
   "outputs": [],
   "source": [
    "print('Material Shape: ', material_history.shape)\n",
    "print('Item master: ', item_master.shape)\n"
   ]
  },
  {
   "cell_type": "code",
   "execution_count": null,
   "id": "e4094317",
   "metadata": {},
   "outputs": [],
   "source": [
    "material_history['Material'].value_counts()"
   ]
  },
  {
   "cell_type": "code",
   "execution_count": null,
   "id": "c10b4fbd",
   "metadata": {},
   "outputs": [],
   "source": [
    "temp_item_master = item_master[['Material', 'Material Type', 'Procurement']]"
   ]
  },
  {
   "cell_type": "code",
   "execution_count": null,
   "id": "f6496b6e",
   "metadata": {},
   "outputs": [],
   "source": [
    "temp_item_master.loc[temp_item_master['Material'] == 'BN61-08214A']"
   ]
  },
  {
   "cell_type": "code",
   "execution_count": null,
   "id": "341290b5",
   "metadata": {},
   "outputs": [],
   "source": [
    "step_one = pd.merge(material_history, temp_item_master, on=\"Material\", how=\"left\")"
   ]
  },
  {
   "cell_type": "code",
   "execution_count": null,
   "id": "a2827e3f",
   "metadata": {},
   "outputs": [],
   "source": [
    "step_one"
   ]
  },
  {
   "cell_type": "code",
   "execution_count": null,
   "id": "042dc8bb",
   "metadata": {},
   "outputs": [],
   "source": [
    "# step_one['Input'] = step_one['Quantity'] if step_one['Quantity'] > 0 else None\n",
    "# step_one['Output'] = -step_one['Quantity'] if step_one['Quantity'] < 0 else None\n"
   ]
  },
  {
   "cell_type": "code",
   "execution_count": null,
   "id": "2230d5fd",
   "metadata": {},
   "outputs": [],
   "source": [
    "step_one['Quantity']"
   ]
  },
  {
   "cell_type": "code",
   "execution_count": null,
   "id": "f0380b54",
   "metadata": {},
   "outputs": [],
   "source": [
    "def create_quantity(columns):\n",
    "    if columns > 0:\n",
    "        return [columns, 0]\n",
    "    else:\n",
    "        return [0, -columns]"
   ]
  },
  {
   "cell_type": "code",
   "execution_count": null,
   "id": "20c5d8b4",
   "metadata": {},
   "outputs": [],
   "source": [
    "step_one['Input'] = step_one['Quantity']\n",
    "step_one['Output'] = step_one['Quantity']"
   ]
  },
  {
   "cell_type": "code",
   "execution_count": null,
   "id": "c87a850f",
   "metadata": {},
   "outputs": [],
   "source": [
    "# step_one['Input'] = [value for value in step_one['Input'] if step_one['Input'].all() > 0]\n",
    "\n",
    "step_one.loc[0]"
   ]
  },
  {
   "cell_type": "code",
   "execution_count": null,
   "id": "ae541c89",
   "metadata": {},
   "outputs": [],
   "source": [
    "step_one.rename(columns={\n",
    "    'Reference': 'Order Category',\n",
    "    'Unnamed: 13': 'Order Data',\n",
    "    'Unnamed: 14': 'Master Category',\n",
    "    'Unnamed: 15': 'Master Data',\n",
    "    'Unnamed: 16': 'Remark'\n",
    "}, inplace=True)"
   ]
  },
  {
   "cell_type": "code",
   "execution_count": null,
   "id": "e47fca8b",
   "metadata": {},
   "outputs": [],
   "source": []
  },
  {
   "cell_type": "code",
   "execution_count": null,
   "id": "926bff3f",
   "metadata": {},
   "outputs": [],
   "source": [
    "step_one = step_one.iloc[1: , :]"
   ]
  },
  {
   "cell_type": "code",
   "execution_count": null,
   "id": "d54a587e",
   "metadata": {},
   "outputs": [],
   "source": [
    "step_one"
   ]
  },
  {
   "cell_type": "code",
   "execution_count": null,
   "id": "49f49f1c",
   "metadata": {},
   "outputs": [],
   "source": [
    "# step_one.loc[step_one['Input'] > 0]\n",
    "def temp_filter(values):\n",
    "    return values if values > 0 else 0"
   ]
  },
  {
   "cell_type": "code",
   "execution_count": null,
   "id": "dd0e6c4f",
   "metadata": {},
   "outputs": [],
   "source": [
    "step_one.info()"
   ]
  },
  {
   "cell_type": "code",
   "execution_count": null,
   "id": "a600d307",
   "metadata": {},
   "outputs": [],
   "source": [
    "# def filter_inout(row):\n",
    "#     return row['Quantity'] if row['Quantity'] > 0 else 0"
   ]
  },
  {
   "cell_type": "code",
   "execution_count": null,
   "id": "77fd3a3d",
   "metadata": {},
   "outputs": [],
   "source": [
    "# step_one['input'] = step_one.apply(filter_inout, axis=1)"
   ]
  },
  {
   "cell_type": "code",
   "execution_count": null,
   "id": "4f45c816",
   "metadata": {},
   "outputs": [],
   "source": []
  },
  {
   "cell_type": "code",
   "execution_count": null,
   "id": "ac93300f",
   "metadata": {},
   "outputs": [],
   "source": [
    "pd.set_option('mode.chained_assignment', None)"
   ]
  },
  {
   "cell_type": "code",
   "execution_count": null,
   "id": "8e57e207",
   "metadata": {},
   "outputs": [],
   "source": [
    "step_one.loc[step_one['Quantity'] > 0, 'Input'] = step_one['Quantity']\n",
    "step_one.loc[step_one['Quantity'] > 0, 'Output'] = 0\n",
    "step_one.loc[step_one['Quantity'] <= 0, 'Input'] = 0\n",
    "step_one.loc[step_one['Quantity'] <= 0, 'Output'] = -step_one['Quantity']"
   ]
  },
  {
   "cell_type": "code",
   "execution_count": null,
   "id": "c9126fbf",
   "metadata": {},
   "outputs": [],
   "source": [
    "cols = step_one.columns.tolist()"
   ]
  },
  {
   "cell_type": "code",
   "execution_count": null,
   "id": "698fd993",
   "metadata": {},
   "outputs": [],
   "source": [
    "cols"
   ]
  },
  {
   "cell_type": "code",
   "execution_count": null,
   "id": "93a50dff",
   "metadata": {},
   "outputs": [],
   "source": [
    "cols = cols[:10] + [cols[-2], cols[-1]] + cols[10:-2]"
   ]
  },
  {
   "cell_type": "code",
   "execution_count": null,
   "id": "1bb75bc0",
   "metadata": {},
   "outputs": [],
   "source": [
    "step_one = step_one[cols]"
   ]
  },
  {
   "cell_type": "code",
   "execution_count": null,
   "id": "27af4df5",
   "metadata": {},
   "outputs": [],
   "source": [
    "step_one['Account code'] = [int(x) for x in (step_one['Movement Type'].str[:3])]"
   ]
  },
  {
   "cell_type": "code",
   "execution_count": null,
   "id": "7c8f0953",
   "metadata": {},
   "outputs": [],
   "source": [
    "step_one"
   ]
  },
  {
   "cell_type": "code",
   "execution_count": null,
   "id": "2d188cef",
   "metadata": {},
   "outputs": [],
   "source": [
    "cols = step_one.columns.tolist()"
   ]
  },
  {
   "cell_type": "code",
   "execution_count": null,
   "id": "31a9d0e4",
   "metadata": {},
   "outputs": [],
   "source": [
    "cols = cols[:7] + [cols[-1]] + cols[7: -1]"
   ]
  },
  {
   "cell_type": "code",
   "execution_count": null,
   "id": "53917920",
   "metadata": {},
   "outputs": [],
   "source": [
    "step_one = step_one[cols]"
   ]
  },
  {
   "cell_type": "code",
   "execution_count": null,
   "id": "879fcc90",
   "metadata": {},
   "outputs": [],
   "source": [
    "step_one"
   ]
  },
  {
   "cell_type": "code",
   "execution_count": null,
   "id": "e62b6905",
   "metadata": {},
   "outputs": [],
   "source": [
    "columns_name = {\n",
    "    'H': 'Account code',\n",
    "    'p': 'Order Category',\n",
    "    'W': 'Material Type',\n",
    "    'X': 'Procurement'\n",
    "}\n",
    "\n",
    "nhap_vao = [None] * 7\n",
    "nhap_vao[0] = ((step_one['Account code'] == 101) & (step_one['Order Category'] == 'Purchase Order'))\n",
    "nhap_vao[1] = (step_one['Account code'] == 602)\n",
    "nhap_vao[2] = (step_one['Account code'] == 623)\n",
    "nhap_vao[3] = (step_one['Account code'] == 701)\n",
    "nhap_vao[4] = (step_one['Account code'] == 720)\n",
    "nhap_vao[5] = (step_one['Account code'] == 801)\n",
    "nhap_vao[6]= (step_one['Account code'] == 809)\n",
    "\n",
    "xuat_ra = [None] * 9\n",
    "xuat_ra[0] = ((step_one['Account code'] == 102) & (step_one['Order Category'] == 'Purchase Order'))\n",
    "xuat_ra[1] = (step_one['Account code'] == 201)\n",
    "xuat_ra[2] = (step_one['Account code'] == 261)\n",
    "xuat_ra[3] = (step_one['Account code'] == 601)\n",
    "xuat_ra[4] = (step_one['Account code'] == 609)\n",
    "xuat_ra[5] = (step_one['Account code'] == 702)\n",
    "xuat_ra[6] = (step_one['Account code'] == 712)\n",
    "xuat_ra[7] = (step_one['Account code'] == 721)\n",
    "xuat_ra[8] = (step_one['Account code'] == 803)\n",
    "\n",
    "thuyen_chuyen = [None] * 2\n",
    "thuyen_chuyen[0] = (step_one['Account code'].between(300, 400))\n",
    "thuyen_chuyen[1] = (step_one['Account code'] == 401)"
   ]
  },
  {
   "cell_type": "code",
   "execution_count": null,
   "id": "71b0bd72",
   "metadata": {
    "scrolled": true
   },
   "outputs": [],
   "source": []
  },
  {
   "cell_type": "code",
   "execution_count": null,
   "id": "c68964f3",
   "metadata": {},
   "outputs": [],
   "source": [
    "# for i in range(len(nhap_vao)):\n",
    "#     nhap_vao[i] = step_one.loc[nhap_vao[i]]\n",
    "#     nhap_vao[i]['Tm_Rank'] = nhap_vao[i]['Material Type'].map(material_order_index)\n",
    "#     nhap_vao[i].sort_values(['Tm_Rank', 'Procurement'], inplace = True)\n",
    "#     nhap_vao[i].drop('Tm_Rank', 1, inplace = True)"
   ]
  },
  {
   "cell_type": "code",
   "execution_count": null,
   "id": "a061d863",
   "metadata": {},
   "outputs": [],
   "source": [
    "def condition_to_data(arr):\n",
    "    material_type_order = ['ROH', 'HAWA', 'HALB', 'FERT']\n",
    "    material_order_index = dict(zip(material_type_order, range(len(material_type_order))))\n",
    "    for i in range(len(arr)):\n",
    "        arr[i] = step_one.loc[arr[i]]\n",
    "        arr[i]['Tm_Rank'] = arr[i]['Material Type'].map(material_order_index)\n",
    "        arr[i].sort_values(['Tm_Rank', 'Procurement'], inplace = True)\n",
    "        arr[i].drop('Tm_Rank', 1, inplace = True)"
   ]
  },
  {
   "cell_type": "code",
   "execution_count": null,
   "id": "83ea9b27",
   "metadata": {},
   "outputs": [],
   "source": [
    "condition_to_data(nhap_vao)\n",
    "condition_to_data(xuat_ra)\n",
    "condition_to_data(thuyen_chuyen)"
   ]
  },
  {
   "cell_type": "code",
   "execution_count": null,
   "id": "002783da",
   "metadata": {},
   "outputs": [],
   "source": [
    "thuyen_chuyen[0]"
   ]
  },
  {
   "cell_type": "code",
   "execution_count": null,
   "id": "348f26fc",
   "metadata": {},
   "outputs": [],
   "source": [
    "step_two = pd.concat(nhap_vao + xuat_ra + thuyen_chuyen)\n"
   ]
  },
  {
   "cell_type": "code",
   "execution_count": null,
   "id": "079c51d3",
   "metadata": {},
   "outputs": [],
   "source": [
    "step_two"
   ]
  },
  {
   "cell_type": "code",
   "execution_count": null,
   "id": "1f2c06d8",
   "metadata": {},
   "outputs": [],
   "source": [
    "condition_to_delete = ~(step_two['Account code'].isin([101, 102])) & (\n",
    "    ((step_two['Material Type'] == 'ROH') & (step_two['Procurement'] == 'E')) | \n",
    "    ((step_two['Material Type'] == 'HAWA') & (step_two['Procurement'] == 'E')) |\n",
    "    ((step_two['Material Type'] == 'HALB') & (step_two['Procurement'].isin(['E', 'X']))) | \n",
    "    ((step_two['Material Type'] == 'FERT') & (step_two['Procurement'].isin(['E', 'X'])))\n",
    ")\n",
    "step_two.drop(step_two[condition_to_delete].index, inplace = True)"
   ]
  },
  {
   "cell_type": "code",
   "execution_count": null,
   "id": "6fafdd24",
   "metadata": {},
   "outputs": [],
   "source": [
    "SCM_RAW = step_two"
   ]
  },
  {
   "cell_type": "code",
   "execution_count": null,
   "id": "8c9e6ad1",
   "metadata": {},
   "outputs": [],
   "source": [
    "nhap_vao = [None] * 2\n",
    "nhap_vao[0] = (\n",
    "    (step_one['Account code'] == 101) & \n",
    "    (step_one['Order Category'] == 'Purchase Order') & \n",
    "    (step_one['Material Type'] == 'HALB') & \n",
    "    (step_one['Procurement'].isin(['E', 'X']))\n",
    ")\n",
    "            \n",
    "nhap_vao[1] = (\n",
    "        (step_one['Account code'].isin([602, 623, 701, 720, 801, 809])) &\n",
    "        (step_one['Material Type'] == 'HALB') & \n",
    "        (step_one['Procurement'].isin(['E', 'X']))\n",
    ")\n",
    "\n",
    "xuat_ra = [None] * 3\n",
    "xuat_ra[0] = (\n",
    "    (step_one['Account code'] == 102) & \n",
    "    (step_one['Order Category'] == 'Purchase Order') & \n",
    "    (step_one['Material Type'] == 'HALB') & \n",
    "    (step_one['Procurement'].isin(['E', 'X']))\n",
    ")\n",
    "\n",
    "xuat_ra[1] = (\n",
    "        (step_one['Account code'].isin([201, 601, 609, 702, 712, 721, 803])) &\n",
    "        (step_one['Material Type'] == 'HALB') & \n",
    "        (step_one['Procurement'].isin(['E', 'X']))\n",
    ")\n",
    "\n",
    "xuat_ra[2] = (\n",
    "        (step_one['Account code'] == 261) &\n",
    "        (\n",
    "            ((step_one['Material Type'] == 'HALB') & \n",
    "            (step_one['Procurement'].isin(['E', 'X']))) |\n",
    "            ((step_one['Material Type'] == 'FERT') & \n",
    "            (step_one['Procurement'].isin(['E', 'X'])))\n",
    "        )\n",
    ")\n",
    "\n",
    "thuyen_chuyen = [None]\n",
    "thuyen_chuyen[0] = (\n",
    "        (step_one['Account code'].between(300, 402)) &\n",
    "        (step_one['Material Type'] == 'HALB') & \n",
    "        (step_one['Procurement'].isin(['E', 'X']))\n",
    ")"
   ]
  },
  {
   "cell_type": "code",
   "execution_count": null,
   "id": "580ec3e1",
   "metadata": {},
   "outputs": [],
   "source": [
    "step_one"
   ]
  },
  {
   "cell_type": "code",
   "execution_count": null,
   "id": "e108ee15",
   "metadata": {},
   "outputs": [],
   "source": [
    "condition_to_data(nhap_vao)\n",
    "condition_to_data(xuat_ra)\n",
    "condition_to_data(thuyen_chuyen)"
   ]
  },
  {
   "cell_type": "code",
   "execution_count": null,
   "id": "4bc8f131",
   "metadata": {},
   "outputs": [],
   "source": [
    "SCM_WIP = pd.concat(nhap_vao + xuat_ra + thuyen_chuyen)"
   ]
  },
  {
   "cell_type": "code",
   "execution_count": null,
   "id": "e87538ce",
   "metadata": {},
   "outputs": [],
   "source": [
    "SCM_WIP.loc[(\n",
    "    (SCM_WIP['Account code'] == 261) &\n",
    "    (SCM_WIP['Material Type'] == 'FERT') &\n",
    "    (SCM_WIP['Location'].str.startswith('RW'))\n",
    "), 'Location'] = None"
   ]
  },
  {
   "cell_type": "code",
   "execution_count": null,
   "id": "6171be0e",
   "metadata": {},
   "outputs": [],
   "source": [
    "nhap_vao = [None] * 2\n",
    "nhap_vao[0] = (\n",
    "    (step_one['Account code'] == 101) & \n",
    "    (step_one['Order Category'] == 'Production Order') & \n",
    "    (step_one['Material Type'] == 'FERT') & \n",
    "    (step_one['Procurement'].isin(['E', 'X']))\n",
    ")\n",
    "            \n",
    "nhap_vao[1] = (\n",
    "        (step_one['Account code'].isin([602, 623, 701, 720, 801, 809])) &\n",
    "        (step_one['Material Type'] == 'FERT') & \n",
    "        (step_one['Procurement'].isin(['E', 'X']))\n",
    ")\n",
    "\n",
    "xuat_ra = [None] * 2\n",
    "xuat_ra[0] = (\n",
    "    (step_one['Account code'] == 102) & \n",
    "    (step_one['Order Category'] == 'Production Order') & \n",
    "    (step_one['Material Type'] == 'FERT') & \n",
    "    (step_one['Procurement'].isin(['E', 'X']))\n",
    ")\n",
    "\n",
    "xuat_ra[1] = (\n",
    "        (step_one['Account code'].isin([201, 601, 609, 702, 712, 721, 803])) &\n",
    "        (step_one['Material Type'] == 'FERT') & \n",
    "        (step_one['Procurement'].isin(['E', 'X']))\n",
    ")\n",
    "\n",
    "thuyen_chuyen = [None]\n",
    "thuyen_chuyen[0] = (\n",
    "        (step_one['Account code'].between(300, 402)) &\n",
    "        (step_one['Material Type'] == 'FERT') & \n",
    "        (step_one['Procurement'].isin(['E', 'X']))\n",
    ")"
   ]
  },
  {
   "cell_type": "code",
   "execution_count": null,
   "id": "f5666d41",
   "metadata": {},
   "outputs": [],
   "source": [
    "condition_to_data(nhap_vao)\n",
    "condition_to_data(xuat_ra)\n",
    "condition_to_data(thuyen_chuyen)\n",
    "SCM_FG = pd.concat(nhap_vao + xuat_ra + thuyen_chuyen)"
   ]
  },
  {
   "cell_type": "code",
   "execution_count": null,
   "id": "0dfd4d50",
   "metadata": {},
   "outputs": [],
   "source": []
  },
  {
   "cell_type": "code",
   "execution_count": null,
   "id": "bd0dfdac",
   "metadata": {},
   "outputs": [],
   "source": [
    "print('RAW', SCM_RAW.shape)\n",
    "print('FG', SCM_FG.shape)\n",
    "print('WIP', SCM_WIP.shape)"
   ]
  },
  {
   "cell_type": "code",
   "execution_count": null,
   "id": "6917dcba",
   "metadata": {},
   "outputs": [],
   "source": [
    "with pd.ExcelWriter('output/before_report.xlsx') as writer:  \n",
    "    SCM_RAW.to_excel(writer, sheet_name='RAW')\n",
    "    SCM_FG.to_excel(writer, sheet_name='FG')\n",
    "    SCM_WIP.to_excel(writer, sheet_name='WIP')"
   ]
  },
  {
   "cell_type": "code",
   "execution_count": null,
   "id": "ee4eaa7f",
   "metadata": {},
   "outputs": [],
   "source": []
  },
  {
   "cell_type": "code",
   "execution_count": null,
   "id": "3b2cbdbe",
   "metadata": {},
   "outputs": [],
   "source": []
  }
 ],
 "metadata": {
  "kernelspec": {
   "display_name": "Python 3 (ipykernel)",
   "language": "python",
   "name": "python3"
  },
  "language_info": {
   "codemirror_mode": {
    "name": "ipython",
    "version": 3
   },
   "file_extension": ".py",
   "mimetype": "text/x-python",
   "name": "python",
   "nbconvert_exporter": "python",
   "pygments_lexer": "ipython3",
   "version": "3.9.6"
  }
 },
 "nbformat": 4,
 "nbformat_minor": 5
}
