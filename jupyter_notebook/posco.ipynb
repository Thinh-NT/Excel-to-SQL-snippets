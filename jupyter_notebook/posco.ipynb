{
 "cells": [
  {
   "cell_type": "code",
   "execution_count": 1,
   "id": "0e0d012f",
   "metadata": {},
   "outputs": [],
   "source": [
    "import pandas as pd\n",
    "\n",
    "pd.set_option('display.max_columns', 30)\n",
    "pd.set_option('display.max_rows', 55)"
   ]
  },
  {
   "cell_type": "code",
   "execution_count": 2,
   "id": "03d96bc2",
   "metadata": {},
   "outputs": [],
   "source": [
    "df = pd.read_excel('../data/posco/xnk.xls', header=9)"
   ]
  },
  {
   "cell_type": "code",
   "execution_count": 3,
   "id": "ce072ed2",
   "metadata": {},
   "outputs": [],
   "source": [
    "'''\n",
    "Take out E21, B13, A42 items\n",
    "'''\n",
    "\n",
    "e21 = df.loc[df['Mã loại hình'] == 'E21', ['Mã NPL/SP', 'Đơn vị tính', 'Tổng số lượng']]\n",
    "b13 = df.loc[df['Mã loại hình'] == 'B13', ['Mã NPL/SP', 'Đơn vị tính', 'Tổng số lượng']]\n",
    "a42 = df.loc[df['Mã loại hình'] == 'A42', ['Mã NPL/SP', 'Đơn vị tính', 'Tổng số lượng']]"
   ]
  },
  {
   "cell_type": "code",
   "execution_count": 4,
   "id": "a3e3f2bd",
   "metadata": {},
   "outputs": [],
   "source": [
    "''' \n",
    "E21 type items \n",
    "'''\n",
    "\n",
    "e21.rename(columns={\n",
    "    'Mã NPL/SP': 'Items'\n",
    "}, inplace=True)\n",
    "e21['Items'] = [x.replace('$', '') for x in e21['Items']]\n",
    "\n",
    "e21.reset_index(inplace=True)\n",
    "\n",
    "e21.columns\n",
    "# del e21['level_0'], e21['index']\n",
    "\n",
    "aggregation functions = {\n",
    "    'Đơn vị tính': 'first',\n",
    "    'Tổng số lượng': 'sum',\n",
    "}\n",
    "e21 = e21.groupby(e21['Items']).aggregate(aggregation_functions)"
   ]
  },
  {
   "cell_type": "code",
   "execution_count": null,
   "id": "8ff59bb4",
   "metadata": {},
   "outputs": [],
   "source": []
  },
  {
   "cell_type": "code",
   "execution_count": 6,
   "id": "97c465ec",
   "metadata": {},
   "outputs": [],
   "source": [
    "'''\n",
    "Output for Production \n",
    "'''\n",
    "take_out = pd.read_excel('../data/posco/take_out.xlsx', header=9)\n",
    "take_out = take_out[['Item Code', 'Unit', 'Qty', 'Weight']]\n",
    "aggregation_functions = {\n",
    "    'Unit': 'first',\n",
    "    'Qty': 'sum',\n",
    "    'Weight': 'sum'\n",
    "}\n",
    "take_out = take_out.groupby(take_out['Item Code']).aggregate(aggregation_functions)\n",
    "\n",
    "take_out.reset_index(inplace=True)\n",
    "\n",
    "take_out.rename(columns={\n",
    "    'Item Code' : 'Items'\n",
    "}, inplace=True)"
   ]
  },
  {
   "cell_type": "code",
   "execution_count": null,
   "id": "5d770b1f",
   "metadata": {},
   "outputs": [],
   "source": []
  },
  {
   "cell_type": "code",
   "execution_count": 8,
   "id": "34b63847",
   "metadata": {},
   "outputs": [
    {
     "name": "stderr",
     "output_type": "stream",
     "text": [
      "d:\\projects\\excel-to-sql-snippets\\env\\lib\\site-packages\\openpyxl\\worksheet\\header_footer.py:48: UserWarning: Cannot parse header or footer so it will be ignored\n",
      "  warn(\"\"\"Cannot parse header or footer so it will be ignored\"\"\")\n"
     ]
    }
   ],
   "source": [
    "'''\n",
    "Return\n",
    "'''\n",
    "return_df = pd.read_excel('../data/posco/return.xlsx', header=6)\n",
    "return_df = return_df[['Item Code', 'Item Name', 'Unit', 'Return Qty', 'Return Weight']]\n",
    "aggregation_functions = {\n",
    "    'Item Name': 'first',\n",
    "    'Unit': 'first',\n",
    "    'Return Qty': 'sum',\n",
    "    'Return Weight': 'sum'\n",
    "}\n",
    "return_df['Item Code'] = return_df['Item Code'].str.replace('$', '', regex=True)\n",
    "return_df = return_df.groupby(return_df['Item Code']).aggregate(aggregation_functions)\n",
    "\n",
    "return_df.rename(columns={\n",
    "    'Item Code' : 'Items'\n",
    "}, inplace=True)"
   ]
  },
  {
   "cell_type": "code",
   "execution_count": null,
   "id": "eafec266",
   "metadata": {},
   "outputs": [],
   "source": []
  },
  {
   "cell_type": "code",
   "execution_count": 9,
   "id": "cc255895",
   "metadata": {},
   "outputs": [],
   "source": [
    "'''\n",
    "WAREHOUSE\n",
    "'''\n",
    "warehouse = pd.read_excel('../data/posco/iob.xlsx', header=9, skipfooter=10)\n",
    "warehouse.rename(columns={\n",
    "    'Unnamed: 0': 'Items',\n",
    "    'Unnamed: 1': 'Name',\n",
    "    'Unnamed: 3': 'Unit',\n",
    "    'Unnamed: 13': 'Qty'\n",
    "}, inplace=True)\n",
    "warehouse = warehouse[['Items', 'Name', 'Unit', 'Qty']]\n",
    "aggregation_functions = {\n",
    "    'Name': 'first',\n",
    "    'Unit': 'first',\n",
    "    'Qty': 'sum',\n",
    "}\n",
    "warehouse['Items'] = warehouse['Items'].str.replace('$', '', regex=True)\n",
    "warehouse = warehouse.groupby(warehouse['Items']).aggregate(aggregation_functions)"
   ]
  },
  {
   "cell_type": "code",
   "execution_count": null,
   "id": "7e9c3a1c",
   "metadata": {},
   "outputs": [],
   "source": []
  },
  {
   "cell_type": "code",
   "execution_count": null,
   "id": "0c84b5a5",
   "metadata": {},
   "outputs": [],
   "source": []
  },
  {
   "cell_type": "code",
   "execution_count": null,
   "id": "828713f3",
   "metadata": {},
   "outputs": [],
   "source": []
  }
 ],
 "metadata": {
  "kernelspec": {
   "display_name": "Python 3 (ipykernel)",
   "language": "python",
   "name": "python3"
  },
  "language_info": {
   "codemirror_mode": {
    "name": "ipython",
    "version": 3
   },
   "file_extension": ".py",
   "mimetype": "text/x-python",
   "name": "python",
   "nbconvert_exporter": "python",
   "pygments_lexer": "ipython3",
   "version": "3.9.6"
  }
 },
 "nbformat": 4,
 "nbformat_minor": 5
}
