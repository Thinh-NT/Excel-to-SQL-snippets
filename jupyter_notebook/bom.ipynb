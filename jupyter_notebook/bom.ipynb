{
 "cells": [
  {
   "cell_type": "code",
   "execution_count": 14,
   "id": "c6e7b777",
   "metadata": {},
   "outputs": [],
   "source": [
    "import pandas as pd\n",
    "\n",
    "pd.set_option('display.max_rows', 40)\n",
    "pd.set_option('display.max_columns', 30)"
   ]
  },
  {
   "cell_type": "code",
   "execution_count": 15,
   "id": "694cf067",
   "metadata": {},
   "outputs": [],
   "source": [
    "bom = pd.read_excel('../data/raw_bom.xls', header=8, sheet_name='RAW_09.2020')"
   ]
  },
  {
   "cell_type": "code",
   "execution_count": 17,
   "id": "8e191425",
   "metadata": {
    "scrolled": true
   },
   "outputs": [],
   "source": [
    "sample_item = bom.loc[bom['Parent Item'] == '1102-02314-00']"
   ]
  },
  {
   "cell_type": "code",
   "execution_count": 12,
   "id": "82c83c13",
   "metadata": {},
   "outputs": [
    {
     "data": {
      "text/plain": [
       "(7770, 24)"
      ]
     },
     "execution_count": 12,
     "metadata": {},
     "output_type": "execute_result"
    }
   ],
   "source": [
    "bom.shape"
   ]
  },
  {
   "cell_type": "code",
   "execution_count": null,
   "id": "90657b47",
   "metadata": {},
   "outputs": [],
   "source": []
  },
  {
   "cell_type": "code",
   "execution_count": 19,
   "id": "a6e69b25",
   "metadata": {},
   "outputs": [
    {
     "data": {
      "text/plain": [
       "0     3103-07415-00\n",
       "1     3215-00611-00\n",
       "2     3218-00384-00\n",
       "3     3900-10013-00\n",
       "4     3900-10014-00\n",
       "          ...      \n",
       "91    3215-00611-00\n",
       "92    3218-00384-00\n",
       "93    3900-10013-00\n",
       "94    3900-10014-00\n",
       "95    3900-10015-00\n",
       "Name: Child Item, Length: 96, dtype: object"
      ]
     },
     "execution_count": 19,
     "metadata": {},
     "output_type": "execute_result"
    }
   ],
   "source": [
    "sample_item['Child Item']"
   ]
  },
  {
   "cell_type": "code",
   "execution_count": null,
   "id": "14435ad6",
   "metadata": {},
   "outputs": [],
   "source": []
  }
 ],
 "metadata": {
  "kernelspec": {
   "display_name": "Python 3 (ipykernel)",
   "language": "python",
   "name": "python3"
  },
  "language_info": {
   "codemirror_mode": {
    "name": "ipython",
    "version": 3
   },
   "file_extension": ".py",
   "mimetype": "text/x-python",
   "name": "python",
   "nbconvert_exporter": "python",
   "pygments_lexer": "ipython3",
   "version": "3.9.6"
  }
 },
 "nbformat": 4,
 "nbformat_minor": 5
}
