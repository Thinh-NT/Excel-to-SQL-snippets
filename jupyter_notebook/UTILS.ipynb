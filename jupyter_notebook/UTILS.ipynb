{
 "cells": [
  {
   "cell_type": "markdown",
   "metadata": {},
   "source": [
    "Transpose / Pivot table Pandas"
   ]
  },
  {
   "cell_type": "code",
   "execution_count": null,
   "metadata": {},
   "outputs": [],
   "source": [
    "import pandas as pd\n",
    "\n",
    "df.set_index('Material Name', inplace=True)\n",
    "\n",
    "trans = df.transpose()\n",
    "\n",
    "trans.reset_index(inplace=True)\n",
    "\n",
    "trans = trans[cols]\n",
    "\n",
    "# One way to do it, for now it can not remain same order easily.\n",
    "trans.melt(id_vars=[\"index\"], ignore_index = False).to_excel('../output/hope.xlsx')\n",
    "\n",
    "# Another way but preverse order.\n",
    "result= trans.set_index([\"index\"]).stack()\n",
    "# Or\n",
    "result = df.pivot(index=[\"some cols\"], columns=\"cols contain values to set name of columns\", values=\"cols that want to get values from\")"
   ]
  },
  {
   "cell_type": "markdown",
   "metadata": {},
   "source": [
    "Convert to datetime"
   ]
  },
  {
   "cell_type": "code",
   "execution_count": null,
   "metadata": {},
   "outputs": [],
   "source": [
    "df['columns name'] = pd.to_datetime(df['columns name']], format=\"%d/%m/%Y\", yearfirst=True)"
   ]
  },
  {
   "cell_type": "markdown",
   "metadata": {},
   "source": [
    "Dataframe to SQL"
   ]
  },
  {
   "cell_type": "code",
   "execution_count": null,
   "metadata": {},
   "outputs": [],
   "source": [
    "from sqlalchemy import create_engine\n",
    "\n",
    "df = pd.read_excel('Byun/take_in.xlsx', header=10)\n",
    "\n",
    "sql_engine = create_engine(\n",
    "        'mysql+pymysql://admin:password@ip/scheme', pool_recycle=3600\n",
    "    )\n",
    "take_in.to_sql('table', sql_engine,\n",
    "              if_exists='replace')"
   ]
  },
  {
   "cell_type": "markdown",
   "metadata": {},
   "source": [
    "Walk through files in folder"
   ]
  },
  {
   "cell_type": "code",
   "execution_count": 23,
   "metadata": {},
   "outputs": [],
   "source": [
    "import pandas as pd\n",
    "import numpy as np\n",
    "from os import walk\n",
    "\n",
    "pd.set_option('display.max_columns', 30)\n",
    "pd.set_option('display.max_rows', 40)\n",
    "path = '../data/bom'\n",
    "file_names = next(walk(path), (None, None, []))[2]\n",
    "file_names = (f'{path}/{x}' for x in file_names)\n",
    "dfs = [pd.read_excel(x, header=0, usecols=['Unnamed: 0', 'Plant', 'Entry Date', 'Material', 'Location',\n",
    "       'Stock Type', 'Movement Type', 'Posting Date', 'Unit', 'Quantity',\n",
    "       'Material Document No', 'Provide', 'Reference', 'Unnamed: 13',\n",
    "       'Unnamed: 14', 'Unnamed: 15', 'Unnamed: 16', 'Previous Stock',\n",
    "       'Entry User']) for x in file_names]\n",
    "def loc_df(df):\n",
    "    lst = [x[0] for x in df['Movement Type'].str.split()]\n",
    "    df['movement type check'] = lst\n",
    "    df = df.loc[df['movement type check'].isin(['101','102','103'])]\n",
    "    return df\n",
    "\n",
    "dfs = [loc_df(df) for df in dfs]\n",
    "\n",
    "result = pd.concat(dfs)\n",
    "result.columns\n",
    "result = result[['Material', 'Unit', 'Movement Type', 'Quantity', 'Reference']]\n",
    "end = result.pivot_table(index=['Material', 'Unit'], columns=['Reference'], aggfunc=np.sum)\n",
    "end.to_excel('../output/GIANGALO.xlsx')\n",
    "\n"
   ]
  },
  {
   "cell_type": "markdown",
   "metadata": {},
   "source": [
    "Concat all sheets in file"
   ]
  },
  {
   "cell_type": "code",
   "execution_count": 1,
   "metadata": {},
   "outputs": [],
   "source": [
    "import pandas as pd\n",
    "import numpy as np\n",
    "dfs = pd.read_excel('../data/huy_data/TK 1571-2021 NGUYET GOI CHI THUY (1).xlsx', sheet_name=None, header=5,\n",
    "       usecols=['TT', 'Unnamed: 1', 'Unnamed: 2', 'Unnamed: 3', 'Unnamed: 4', 'USD',\n",
    "       'Số lượng', 'Số lượng.1', 'Số lượng.2', 'Số lượng.3']\n",
    ")\n",
    "# for name, df in dfs.items():\n",
    "#     print(df.columns)\n",
    "\n",
    "def loc_df(df):\n",
    "    df = df.loc[~(pd.isna(df['Unnamed: 3']))]\n",
    "    return df\n",
    "dfs = list(dfs.values())\n",
    "dfs = [loc_df(df) for df in dfs]\n",
    "result = pd.concat(dfs)\n",
    "result.to_excel('../output/TK 1571-2021 NGUYET GOI CHI THUY.xlsx')\n"
   ]
  },
  {
   "cell_type": "markdown",
   "metadata": {},
   "source": [
    "Concat BOM in folder"
   ]
  },
  {
   "cell_type": "code",
   "execution_count": 128,
   "metadata": {},
   "outputs": [],
   "source": [
    "import pandas as pd\n",
    "import numpy as np\n",
    "from os import walk\n",
    "\n",
    "pd.set_option('display.max_columns', 30)\n",
    "pd.set_option('display.max_rows', 40)\n",
    "path = '../data/huy_data/HĐ 2021'\n",
    "file_names = next(walk(path), (None, None, []))[2]\n",
    "file_names = (f'{path}/{x}' for x in file_names)\n",
    "\n",
    "dfs = [pd.read_excel(x, header=10\n",
    "       ) for x in file_names]\n",
    "# for x in dfs:\n",
    "#     print(x.columns)\n",
    "\n",
    "def loc_df(df):\n",
    "    df = df.loc[~pd.isna(df['(5)'])]\n",
    "    return df\n",
    "\n",
    "dfs = [loc_df(df) for df in dfs]\n",
    "result = pd.concat(dfs)\n",
    "result.ffill(inplace=True)\n",
    "# result.to_excel('../output/HĐ 2021.xlsx')\n"
   ]
  },
  {
   "cell_type": "code",
   "execution_count": 129,
   "metadata": {},
   "outputs": [],
   "source": [
    "result.set_index(['(1)','(2)', '(3)','(4)']).stack().to_excel('../output/HĐ 2021.xlsx')"
   ]
  },
  {
   "cell_type": "code",
   "execution_count": null,
   "metadata": {},
   "outputs": [],
   "source": [
    "pd.DataFrame.stack()"
   ]
  }
 ],
 "metadata": {
  "interpreter": {
   "hash": "07848780a58b79594e764c069cbda879259c8dd4f8d3e2f88df491e961ef6dc8"
  },
  "kernelspec": {
   "display_name": "Python 3.10.1 ('env': venv)",
   "language": "python",
   "name": "python3"
  },
  "language_info": {
   "codemirror_mode": {
    "name": "ipython",
    "version": 3
   },
   "file_extension": ".py",
   "mimetype": "text/x-python",
   "name": "python",
   "nbconvert_exporter": "python",
   "pygments_lexer": "ipython3",
   "version": "3.10.1"
  },
  "orig_nbformat": 4
 },
 "nbformat": 4,
 "nbformat_minor": 2
}
