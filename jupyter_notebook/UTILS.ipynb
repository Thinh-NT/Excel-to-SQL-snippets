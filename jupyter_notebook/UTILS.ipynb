{
 "cells": [
  {
   "cell_type": "markdown",
   "metadata": {},
   "source": [
    "Transpose / Pivot table Pandas"
   ]
  },
  {
   "cell_type": "code",
   "execution_count": null,
   "metadata": {},
   "outputs": [],
   "source": [
    "import pandas as pd\n",
    "\n",
    "df.set_index('Material Name', inplace=True)\n",
    "\n",
    "trans = df.transpose()\n",
    "\n",
    "trans.reset_index(inplace=True)\n",
    "\n",
    "trans = trans[cols]\n",
    "\n",
    "# One way to do it, for now it can not remain same order easily.\n",
    "trans.melt(id_vars=[\"index\"], ignore_index = False).to_excel('../output/hope.xlsx')\n",
    "\n",
    "# Another way but preverse order.\n",
    "result= trans.set_index([\"index\"]).stack()\n",
    "# Or\n",
    "result = df.pivot(index=[\"some cols\"], columns=\"cols contain values to set name of columns\", values=\"cols that want to get values from\")"
   ]
  },
  {
   "cell_type": "markdown",
   "metadata": {},
   "source": [
    "Convert to datetime"
   ]
  },
  {
   "cell_type": "code",
   "execution_count": null,
   "metadata": {},
   "outputs": [],
   "source": [
    "df['columns name'] = pd.to_datetime(df['columns name']], format=\"%d/%m/%Y\", yearfirst=True)"
   ]
  },
  {
   "cell_type": "markdown",
   "metadata": {},
   "source": [
    "Dataframe to SQL"
   ]
  },
  {
   "cell_type": "code",
   "execution_count": null,
   "metadata": {},
   "outputs": [],
   "source": [
    "from sqlalchemy import create_engine\n",
    "\n",
    "df = pd.read_excel('Byun/take_in.xlsx', header=10)\n",
    "\n",
    "sql_engine = create_engine(\n",
    "        'mysql+pymysql://admin:password@ip/scheme', pool_recycle=3600\n",
    "    )\n",
    "take_in.to_sql('table', sql_engine,\n",
    "              if_exists='replace')"
   ]
  },
  {
   "cell_type": "code",
   "execution_count": null,
   "metadata": {},
   "outputs": [],
   "source": []
  }
 ],
 "metadata": {
  "language_info": {
   "name": "python"
  },
  "orig_nbformat": 4
 },
 "nbformat": 4,
 "nbformat_minor": 2
}
