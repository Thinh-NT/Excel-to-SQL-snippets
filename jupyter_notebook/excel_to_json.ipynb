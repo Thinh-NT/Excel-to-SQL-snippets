{
 "cells": [
  {
   "cell_type": "code",
   "execution_count": 1,
   "id": "14cc3d62",
   "metadata": {},
   "outputs": [],
   "source": [
    "import pandas as pd\n",
    "import numpy as np\n",
    "\n",
    "pd.set_option('display.max_columns', 20)\n",
    "pd.set_option('display.max_rows', 20)"
   ]
  },
  {
   "cell_type": "code",
   "execution_count": 2,
   "id": "1aa68873",
   "metadata": {},
   "outputs": [],
   "source": [
    "hs = pd.read_excel('../data/hs_table.xlsx')\n",
    "hs.dropna(how='all', inplace=True)"
   ]
  },
  {
   "cell_type": "code",
   "execution_count": 3,
   "id": "bb7b3c6b",
   "metadata": {
    "scrolled": true
   },
   "outputs": [],
   "source": [
    "# Create section columns\n",
    "hs.loc[(hs[\"CONTENT\"].str.lower().str.startswith('section')) & (hs[\"CONTENT\"].str.len() < 20), \"SECTION\"] = hs.loc[(hs[\"CONTENT\"].str.lower().str.startswith('section')) & (hs[\"CONTENT\"].str.len() < 15), \"CONTENT\"].str[8:]\n",
    "hs['TITLE'] = hs['SECTION'].shift(1)\n",
    "hs.loc[pd.notna(hs['TITLE']), 'TYPE'] = 'SECTION TITLE'\n",
    "del hs['TITLE']"
   ]
  },
  {
   "cell_type": "code",
   "execution_count": 4,
   "metadata": {},
   "outputs": [],
   "source": [
    "# Create Chapter columns\n",
    "hs.loc[(hs[\"CONTENT\"].str.lower().str.startswith('chapter')) & (hs[\"CONTENT\"].str.len() < 12), 'CHAPTER'] = hs.loc[(hs[\"CONTENT\"].str.lower().str.startswith('chapter')) & (hs[\"CONTENT\"].str.len() < 12), 'CONTENT'].str[8:]\n",
    "hs.loc[pd.notna(hs['CHAPTER']), 'TYPE'] = 'CHAPTER NAME'\n",
    "hs['TEMP'] = hs['CHAPTER'].shift(1)\n",
    "hs.loc[pd.notna(hs['TEMP']) & pd.isna(hs['TYPE']), 'TYPE'] = 'CHAPTER TITLE'\n",
    "del hs['TEMP']"
   ]
  },
  {
   "cell_type": "code",
   "execution_count": 5,
   "metadata": {},
   "outputs": [],
   "source": [
    "# CREATE HS\n",
    "hs['HS'] = hs['HS'].astype(str)\n",
    "hs.loc[hs['HS'].str.len() ==  8, 'TYPE'] = 'HS'"
   ]
  },
  {
   "cell_type": "code",
   "execution_count": 6,
   "metadata": {},
   "outputs": [],
   "source": [
    "# HEADING AND NOTE OF HEADING\n",
    "hs.loc[(hs['HS'].str.len() == 4) | ((hs['HS'].str.len() == 8) & (hs['HS'].str.endswith('0000'))), 'HEADING'] = hs.loc[(hs['HS'].str.len() == 4) | ((hs['HS'].str.len() == 8) & (hs['HS'].str.endswith('0000'))), 'HS'].str[:4]\n",
    "hs.loc[pd.notna(hs['HEADING']), 'TYPE'] = 'HEADING NAME'\n",
    "hs['TEMP'] = hs['HEADING'].shift(1)\n",
    "hs.loc[pd.notna(hs['TEMP']) & pd.isna(hs['TYPE']), 'TYPE'] = 'NOTE OF HEADING'"
   ]
  },
  {
   "cell_type": "code",
   "execution_count": 7,
   "metadata": {},
   "outputs": [],
   "source": [
    "# SUBHEADING\n",
    "hs.loc[hs['HS'].str.len() == 6, 'SUBHEADING'] = hs.loc[hs['HS'].str.len() == 6, 'HS']\n",
    "hs.loc[pd.notna(hs['SUBHEADING']) & pd.isna(hs['TYPE']), 'TYPE'] = 'SUBHEADING'"
   ]
  },
  {
   "cell_type": "code",
   "execution_count": 8,
   "metadata": {},
   "outputs": [],
   "source": [
    "\n",
    "\n",
    "\n",
    "del hs['TEMP']"
   ]
  },
  {
   "cell_type": "code",
   "execution_count": 9,
   "metadata": {},
   "outputs": [],
   "source": [
    "hs.drop(hs[hs['HS'].str.len() > 8].index, inplace=True)\n",
    "index_to_delete = hs[(~hs['HS'].str.contains('[0-9]', regex=True, na=True)) & (hs['HS'].str.len() > 3)].index\n",
    "hs.drop(index_to_delete, inplace=True)\n"
   ]
  },
  {
   "cell_type": "code",
   "execution_count": 10,
   "metadata": {},
   "outputs": [],
   "source": [
    "hs.loc[pd.notna(hs['SECTION']), 'TYPE'] = 'SECTION NAME'"
   ]
  },
  {
   "cell_type": "code",
   "execution_count": 11,
   "metadata": {},
   "outputs": [],
   "source": [
    "hs['TEMP'] = hs['SECTION'].shift(2)\n",
    "hs.loc[pd.notna(hs['TEMP']) & pd.isna(hs['TYPE']), 'TYPE'] = 'NOTE OF SECTION'\n",
    "del hs['TEMP']"
   ]
  },
  {
   "cell_type": "code",
   "execution_count": 12,
   "metadata": {},
   "outputs": [],
   "source": [
    "hs['TEMP'] = hs['CHAPTER'].shift(2)\n",
    "hs.loc[pd.notna(hs['TEMP']) & pd.isna(hs['TYPE']), 'TYPE'] = 'NOTE OF CHAPTER'\n",
    "del hs['TEMP']"
   ]
  },
  {
   "cell_type": "code",
   "execution_count": 13,
   "metadata": {},
   "outputs": [],
   "source": [
    "# DEFINE NOTE OF HS\n",
    "hs.loc[hs['TYPE'] == 'HS', 'TEMP'] = 'AWAIT'\n",
    "del hs['DESCRIPTION']\n",
    "hs['TEMP'] = hs['TEMP'].shift(1)\n",
    "hs.loc[pd.isna(hs['TYPE']) & pd.notna(hs['TEMP']), 'TYPE'] = 'NOTE OF HS'\n",
    "del hs['TEMP']\n",
    "\n"
   ]
  },
  {
   "cell_type": "code",
   "execution_count": 14,
   "metadata": {},
   "outputs": [],
   "source": [
    "# DEFINE NOTE OF SUBHEADING\n",
    "hs.loc[hs['TYPE'] == 'SUBHEADING', 'TEMP'] = 'AWAIT'\n",
    "hs['TEMP'] = hs['TEMP'].shift(1)\n",
    "hs.loc[pd.isna(hs['TYPE']) & pd.notna(hs['TEMP']), 'TYPE'] = 'NOTE OF SUBHEADING'\n",
    "del hs['TEMP']"
   ]
  },
  {
   "cell_type": "code",
   "execution_count": 15,
   "metadata": {},
   "outputs": [],
   "source": [
    "\n",
    "del hs['HEADING']\n",
    "del hs['SUBHEADING']\n",
    "del hs['NOTE']"
   ]
  },
  {
   "cell_type": "code",
   "execution_count": 16,
   "metadata": {},
   "outputs": [],
   "source": [
    "hs.ffill(inplace=True)"
   ]
  },
  {
   "cell_type": "code",
   "execution_count": 17,
   "metadata": {},
   "outputs": [],
   "source": [
    "hs.drop(hs[((hs['CONTENT'] == 'Notes.') | (hs['CONTENT'] == 'Note.'))].index, inplace=True)\n",
    "\n"
   ]
  },
  {
   "cell_type": "code",
   "execution_count": 18,
   "metadata": {},
   "outputs": [],
   "source": [
    "hs['HS'].replace('nan', np.NaN, inplace=True)\n",
    "hs['HS'].replace(u'\\xa0', np.NaN, inplace=True)\n",
    "hs.ffill(inplace=True)"
   ]
  },
  {
   "cell_type": "code",
   "execution_count": 19,
   "metadata": {},
   "outputs": [],
   "source": [
    "# hs.to_excel('../data/temp.xlsx')\n",
    "hs['HEADING'] = hs['HS'].str[:4]\n"
   ]
  },
  {
   "cell_type": "code",
   "execution_count": 20,
   "metadata": {},
   "outputs": [],
   "source": [
    "# hs.to_excel('../data/final.xlsx')"
   ]
  },
  {
   "cell_type": "code",
   "execution_count": 21,
   "metadata": {},
   "outputs": [],
   "source": [
    "hs_dic = []\n",
    "for _, row in hs.iterrows():\n",
    "    if row['TYPE'] == 'SECTION NAME':\n",
    "        hs_dic.append({\n",
    "            'id': row['SECTION']\n",
    "        })\n",
    "\n",
    "    if row['TYPE'] == 'SECTION TITLE':\n",
    "        hs_dic[-1]['title'] = row['CONTENT']\n",
    "\n",
    "    if row['TYPE'] == 'NOTE OF SECTION':\n",
    "        if 'notes' not in hs_dic[-1]:\n",
    "            hs_dic[-1]['notes'] =  []\n",
    "        hs_dic[-1]['notes'].append(row['CONTENT'])\n",
    "\n",
    "\n",
    "    if row['TYPE'] == 'CHAPTER TITLE':\n",
    "        if 'chapters' not in hs_dic[-1]:\n",
    "            hs_dic[-1]['chapters'] =  []\n",
    "        hs_dic[-1]['chapters'].append({\n",
    "            'id': row['CHAPTER']\n",
    "        })\n",
    "        hs_dic[-1]['chapters'][-1]['title'] = row['CONTENT']\n",
    "\n",
    "    if row['TYPE'] == 'NOTE OF CHAPTER':\n",
    "        if 'notes' not in hs_dic[-1]['chapters'][-1]:\n",
    "            hs_dic[-1]['chapters'][-1]['notes'] =  []\n",
    "        hs_dic[-1]['chapters'][-1]['notes'].append(row['CONTENT'])\n",
    "\n",
    "    if row['TYPE'] == 'HEADING NAME':\n",
    "        if 'headings' not in hs_dic[-1]['chapters'][-1]:\n",
    "            hs_dic[-1]['chapters'][-1]['headings'] =  []\n",
    "        hs_dic[-1]['chapters'][-1]['headings'].append({\n",
    "            'id': row['HEADING'],\n",
    "            'title': row['CONTENT']\n",
    "        })\n",
    "\n",
    "    if row['TYPE'] == 'NOTE OF HEADING':\n",
    "        if 'notes' not in hs_dic[-1]['chapters'][-1]['headings'][-1]:\n",
    "            hs_dic[-1]['chapters'][-1]['headings'][-1]['notes'] = []\n",
    "        hs_dic[-1]['chapters'][-1]['headings'][-1]['notes'].append(row['CONTENT'])\n",
    "    \n",
    "    \n",
    "    if row['TYPE'] == 'HS':\n",
    "        if 'hs' not in hs_dic[-1]['chapters'][-1]['headings'][-1]:\n",
    "            hs_dic[-1]['chapters'][-1]['headings'][-1]['hs'] =  []\n",
    "        hs_dic[-1]['chapters'][-1]['headings'][-1]['hs'].append({\n",
    "            'id': row['HS'],\n",
    "            'title': row['CONTENT']\n",
    "        })\n",
    "    \n",
    "    if row['TYPE'] == 'NOTE OF HS':\n",
    "        if 'notes' not in hs_dic[-1]['chapters'][-1]['headings'][-1]['hs'][-1]:\n",
    "            hs_dic[-1]['chapters'][-1]['headings'][-1]['hs'][-1]['notes'] = []\n",
    "        hs_dic[-1]['chapters'][-1]['headings'][-1]['hs'][-1]['notes'].append(row['CONTENT'])\n",
    "\n",
    "    if row['TYPE'] == 'SUBHEADING':\n",
    "        if 'hs' not in hs_dic[-1]['chapters'][-1]['headings'][-1]:\n",
    "            hs_dic[-1]['chapters'][-1]['headings'][-1]['hs'] =  []\n",
    "        hs_dic[-1]['chapters'][-1]['headings'][-1]['hs'].append({\n",
    "            'id': row['HS'],\n",
    "            'title': row['CONTENT']\n",
    "        })\n",
    "    \n",
    "    if row['TYPE'] == 'NOTE OF SUBHEADING':\n",
    "        if 'notes' not in hs_dic[-1]['chapters'][-1]['headings'][-1]['hs'][-1]:\n",
    "            hs_dic[-1]['chapters'][-1]['headings'][-1]['hs'][-1]['notes'] = []\n",
    "        hs_dic[-1]['chapters'][-1]['headings'][-1]['hs'][-1]['notes'].append(row['CONTENT'])\n",
    "\n",
    "\n",
    "\n",
    "import json\n",
    "with open('data.json', 'w') as f:\n",
    "    json.dump(hs_dic, f)"
   ]
  },
  {
   "cell_type": "code",
   "execution_count": null,
   "metadata": {},
   "outputs": [],
   "source": []
  },
  {
   "cell_type": "code",
   "execution_count": null,
   "metadata": {},
   "outputs": [],
   "source": []
  }
 ],
 "metadata": {
  "interpreter": {
   "hash": "07848780a58b79594e764c069cbda879259c8dd4f8d3e2f88df491e961ef6dc8"
  },
  "kernelspec": {
   "display_name": "Python 3.9.6 64-bit ('env': venv)",
   "name": "python3"
  },
  "language_info": {
   "codemirror_mode": {
    "name": "ipython",
    "version": 3
   },
   "file_extension": ".py",
   "mimetype": "text/x-python",
   "name": "python",
   "nbconvert_exporter": "python",
   "pygments_lexer": "ipython3",
   "version": "3.9.6"
  }
 },
 "nbformat": 4,
 "nbformat_minor": 5
}
