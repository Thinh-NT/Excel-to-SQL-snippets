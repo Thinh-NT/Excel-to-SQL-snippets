{
 "cells": [
  {
   "cell_type": "code",
   "execution_count": 1,
   "metadata": {},
   "outputs": [],
   "source": [
    "import datetime\n",
    "import pandas as pd\n",
    "\n",
    "\n",
    "pd.options.mode.chained_assignment = None\n",
    "pd.set_option('display.max_columns', 150)\n",
    "pd.set_option('display.max_rows', 100)"
   ]
  },
  {
   "cell_type": "code",
   "execution_count": 2,
   "metadata": {},
   "outputs": [],
   "source": [
    "\n",
    "file_url = '30-11-2021_IN-OUT-STOCK_MONTHLY REPORT - Copy.xlsb'\n",
    "output_url = 'output/30 verti.xlsx'"
   ]
  },
  {
   "cell_type": "code",
   "execution_count": 3,
   "metadata": {},
   "outputs": [],
   "source": [
    "stock = pd.read_excel(file_url, sheet_name='REPORT-RAW', header=9)\n",
    "get_date = pd.read_excel(file_url, sheet_name='REPORT-RAW', header=7)\n",
    "stock.rename(columns={\n",
    "    'Unnamed: 1': 'CODE',\n",
    "    'Unnamed: 2': 'UOM',\n",
    "    'Unnamed: 3': 'OPENING STOCK',\n",
    "}, inplace=True)"
   ]
  },
  {
   "cell_type": "code",
   "execution_count": null,
   "metadata": {},
   "outputs": [],
   "source": [
    "# GET DATE\n",
    "start_date = None\n",
    "for x in get_date.columns:\n",
    "    if isinstance(x, int):\n",
    "        start_date = x\n",
    "        break\n",
    "date = datetime.date(1900, 1, 1) + \\\n",
    "    datetime.timedelta(start_date - 2)"
   ]
  },
  {
   "cell_type": "code",
   "execution_count": 8,
   "metadata": {},
   "outputs": [
    {
     "ename": "IndexError",
     "evalue": "list index out of range",
     "output_type": "error",
     "traceback": [
      "\u001b[1;31m---------------------------------------------------------------------------\u001b[0m",
      "\u001b[1;31mIndexError\u001b[0m                                Traceback (most recent call last)",
      "\u001b[1;32m~\\AppData\\Local\\Temp/ipykernel_6552/3616324866.py\u001b[0m in \u001b[0;36m<module>\u001b[1;34m\u001b[0m\n\u001b[0;32m      5\u001b[0m \u001b[1;32mfor\u001b[0m \u001b[0mindex\u001b[0m\u001b[1;33m,\u001b[0m \u001b[0mcolumn\u001b[0m \u001b[1;32min\u001b[0m \u001b[0menumerate\u001b[0m\u001b[1;33m(\u001b[0m\u001b[0mstock\u001b[0m\u001b[1;33m.\u001b[0m\u001b[0mcolumns\u001b[0m\u001b[1;33m)\u001b[0m\u001b[1;33m:\u001b[0m\u001b[1;33m\u001b[0m\u001b[1;33m\u001b[0m\u001b[0m\n\u001b[0;32m      6\u001b[0m     \u001b[1;32mif\u001b[0m \u001b[0mcolumn\u001b[0m\u001b[1;33m.\u001b[0m\u001b[0mstartswith\u001b[0m\u001b[1;33m(\u001b[0m\u001b[1;34m'PURCHASE'\u001b[0m\u001b[1;33m)\u001b[0m\u001b[1;33m:\u001b[0m\u001b[1;33m\u001b[0m\u001b[1;33m\u001b[0m\u001b[0m\n\u001b[1;32m----> 7\u001b[1;33m         \u001b[0mindex_to_indice\u001b[0m\u001b[1;33m[\u001b[0m\u001b[1;33m-\u001b[0m\u001b[1;36m1\u001b[0m\u001b[1;33m]\u001b[0m\u001b[1;33m\u001b[0m\u001b[1;33m\u001b[0m\u001b[0m\n\u001b[0m\u001b[0;32m      8\u001b[0m         \u001b[0mindex_to_indice\u001b[0m\u001b[1;33m.\u001b[0m\u001b[0mappend\u001b[0m\u001b[1;33m(\u001b[0m\u001b[0mindex\u001b[0m\u001b[1;33m)\u001b[0m\u001b[1;33m\u001b[0m\u001b[1;33m\u001b[0m\u001b[0m\n\u001b[0;32m      9\u001b[0m \u001b[1;31m# else:\u001b[0m\u001b[1;33m\u001b[0m\u001b[1;33m\u001b[0m\u001b[1;33m\u001b[0m\u001b[0m\n",
      "\u001b[1;31mIndexError\u001b[0m: list index out of range"
     ]
    }
   ],
   "source": [
    "# GET NUMBER OF DAYS AND INDEX OF START POINT\n",
    "\n",
    "index_to_indice = []\n",
    "# if sheet_name == 'REPORT-RAW':\n",
    "for index, column in enumerate(stock.columns):\n",
    "    if column.startswith('PURCHASE'):\n",
    "        try:\n",
    "            gap = index_to_indice[-1] - index\n",
    "            if gap > 5:\n",
    "                index_to_indice.append(index)\n",
    "        except IndexError:\n",
    "            index_to_indice.append(index)\n",
    "# else:\n",
    "#     for index, column in enumerate(stock.columns):\n",
    "#         if column.startswith('INPUT FROM PRODUCTION'):\n",
    "#             index_to_indice.append(index)\n",
    "numbers_of_days = len(index_to_indice)\n",
    "index_to_indice"
   ]
  },
  {
   "cell_type": "code",
   "execution_count": null,
   "metadata": {},
   "outputs": [],
   "source": [
    "list_df = [None] * numbers_of_days\n",
    "for no, index in enumerate(index_to_indice):\n",
    "    if no == 0:\n",
    "        list_df[no] = stock.iloc[:, list(\n",
    "            range(1, 4)) + list(range(index, index_to_indice[no + 1]))]\n",
    "    elif no < numbers_of_days - 1:\n",
    "        list_df[no] = stock.iloc[:, list(\n",
    "            range(1, 4)) + list(range(index-1, index_to_indice[no + 1]))]\n",
    "    else:\n",
    "        list_df[no] = stock.iloc[:, list(\n",
    "            range(1, 4)) + list(range(index-1, len(stock.columns)))]\n",
    "for no, df in enumerate(list_df):\n",
    "    df.columns = [*df.columns[:-1], 'CLOSING STOCK']\n",
    "    df['DATE'] = date + datetime.timedelta(no)\n",
    "    df.rename(columns=lambda x: x.split('.')[0], inplace=True)\n",
    "    if no > 0:\n",
    "        if 'REPORT-RAW' == 'REPORT-WIP':\n",
    "            del df['OPENING']\n",
    "            df.columns.values[2] = 'OPENING'\n",
    "        else:\n",
    "            del df['OPENING STOCK']\n",
    "            df.columns.values[2] = 'OPENING STOCK'\n",
    "    columns = []\n",
    "    for column in df.columns:\n",
    "        if column not in columns:\n",
    "            columns.append(column)\n",
    "        else:\n",
    "                if (column + '_new') not in columns:\n",
    "                    columns.append(column + '_new')\n",
    "                else:\n",
    "                    columns.append(column + '_new_new')\n",
    "        df.columns = columns\n",
    "        # result = reduce(lambda a, b: pd.concat([a, b]), list_df)\n",
    "        result = pd.concat(list_df)\n",
    "        columns = result.columns.to_list()\n",
    "        columns.append(columns.pop(columns.index('CLOSING STOCK')))\n",
    "        columns.pop(columns.index('DATE'))\n",
    "        columns.insert(2, 'DATE')\n",
    "        result = result[columns]\n",
    "        result.fillna(0, inplace=True)\n"
   ]
  }
 ],
 "metadata": {
  "interpreter": {
   "hash": "07848780a58b79594e764c069cbda879259c8dd4f8d3e2f88df491e961ef6dc8"
  },
  "kernelspec": {
   "display_name": "Python 3.9.6 64-bit ('env': venv)",
   "language": "python",
   "name": "python3"
  },
  "language_info": {
   "codemirror_mode": {
    "name": "ipython",
    "version": 3
   },
   "file_extension": ".py",
   "mimetype": "text/x-python",
   "name": "python",
   "nbconvert_exporter": "python",
   "pygments_lexer": "ipython3",
   "version": "3.9.6"
  },
  "orig_nbformat": 4
 },
 "nbformat": 4,
 "nbformat_minor": 2
}
