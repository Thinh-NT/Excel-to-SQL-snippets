{
 "cells": [
  {
   "cell_type": "code",
   "execution_count": 1,
   "metadata": {},
   "outputs": [],
   "source": [
    "import pandas as pd\n",
    "import numpy as np\n",
    "from os import walk\n",
    "\n",
    "pd.set_option('display.max_columns', 30)\n",
    "pd.set_option('display.max_rows', 40)\n",
    "path = '../data/GIANG'\n",
    "file_names = next(walk(path), (None, None, []))[2]\n",
    "file_names = [f'{path}/{x}' for x in file_names]\n",
    "dfs = [pd.read_excel(x, header=1) for x in file_names]\n",
    "\n",
    "def loc_df(df):\n",
    "    df = df.loc[~pd.isna(df['Code production'])]\n",
    "    return df\n",
    "dfs = [loc_df(df) for df in dfs]\n",
    "\n",
    "result = pd.concat(dfs)\n",
    "result = result['Code production']\n",
    "src_ = pd.read_excel('../data/(26.03.2022)_MEGAELEC_BOM ACTUAL 1.xlsx', header=8)\n",
    "src_ = src_.loc[src_['status'] == 'cần tìn BOM']['code']\n",
    "\n",
    "def convert_to_int(string):\n",
    "    try:\n",
    "        return str(int(string))\n",
    "    except:\n",
    "        return string\n",
    "\n",
    "def look_up(string):\n",
    "    words = string.split('-')\n",
    "    if '-'.join(words) in src_:\n",
    "        return '-'.join(words)\n",
    "    else:\n",
    "        try:\n",
    "            words = words.pop()\n",
    "            return look_up('-'.join(words))\n",
    "        except:\n",
    "            return None\n",
    "    \n",
    "\n",
    "\n",
    "def convert_to_format(string):\n",
    "    srcs = string.split('-')\n",
    "    s = '-'.join([convert_to_int(word) for word in srcs])\n",
    "    return s\n",
    "\n",
    "result = result.to_frame()\n",
    "src_ = src_.to_frame()\n",
    "\n",
    "result = result.drop_duplicates(subset=['Code production'])\n",
    "\n",
    "result['AB'] = [convert_to_format(word) for word in result['Code production']]\n",
    "result['AB'] = [look_up(word) if look_up(\n",
    "    word) else word for word in result['AB']]\n"
   ]
  }
 ],
 "metadata": {
  "interpreter": {
   "hash": "07848780a58b79594e764c069cbda879259c8dd4f8d3e2f88df491e961ef6dc8"
  },
  "kernelspec": {
   "display_name": "Python 3.10.1 ('env': venv)",
   "language": "python",
   "name": "python3"
  },
  "language_info": {
   "codemirror_mode": {
    "name": "ipython",
    "version": 3
   },
   "file_extension": ".py",
   "mimetype": "text/x-python",
   "name": "python",
   "nbconvert_exporter": "python",
   "pygments_lexer": "ipython3",
   "version": "3.10.1"
  },
  "orig_nbformat": 4
 },
 "nbformat": 4,
 "nbformat_minor": 2
}
