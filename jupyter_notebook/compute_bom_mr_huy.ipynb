{
 "cells": [
  {
   "cell_type": "code",
   "execution_count": 5,
   "metadata": {},
   "outputs": [],
   "source": [
    "import pandas as pd"
   ]
  },
  {
   "cell_type": "code",
   "execution_count": 2,
   "metadata": {},
   "outputs": [],
   "source": [
    "cols = ['Material', 'Movement type', 'Qty in unit of entry', 'Unit of Entry', 'Order']"
   ]
  },
  {
   "cell_type": "code",
   "execution_count": 3,
   "metadata": {},
   "outputs": [],
   "source": [
    "df = pd.concat(pd.read_excel(\n",
    "    '../data/TONG.XLSX', sheet_name=None, usecols=cols ,converters={\n",
    "            'Material': str,\n",
    "            'Order': str\n",
    "        }\n",
    "    ), ignore_index=True\n",
    ")\n"
   ]
  },
  {
   "cell_type": "code",
   "execution_count": 7,
   "metadata": {},
   "outputs": [],
   "source": [
    "df = df.loc[\n",
    "    df['Movement type'].isin([101, 102, 261, 262]) &\n",
    "    ~pd.isna(df['Order'])\n",
    "]"
   ]
  },
  {
   "cell_type": "code",
   "execution_count": 8,
   "metadata": {},
   "outputs": [],
   "source": [
    "sx = df.loc[df['Movement type'].isin([101, 102])]\n",
    "nvl = df.loc[df['Movement type'].isin([261, 262])]"
   ]
  },
  {
   "cell_type": "code",
   "execution_count": 9,
   "metadata": {},
   "outputs": [],
   "source": [
    "sx = sx.groupby(\n",
    "    ['Material', 'Unit of Entry', 'Order']).agg(\n",
    "        {'Qty in unit of entry': 'sum'}\n",
    ")\n",
    "sx.reset_index(inplace=True)\n",
    "sx.rename(columns={\n",
    "    'Material': 'Product',\n",
    "    'Unit of Entry': 'Product Unit',\n",
    "    'Qty in unit of entry': 'Product Quantity'\n",
    "}, inplace=True)\n",
    "sx = sx.loc[sx['Product Quantity'] != 0]\n",
    "\n",
    "nvl = nvl.groupby(\n",
    "    ['Material', 'Unit of Entry', 'Order']).agg(\n",
    "        {'Qty in unit of entry': 'sum'}\n",
    ")\n",
    "nvl.reset_index(inplace=True)\n",
    "nvl.rename(columns={\n",
    "    'Unit of Entry': 'Material Unit',\n",
    "    'Qty in unit of entry': 'Material Quantity'\n",
    "}, inplace=True)\n"
   ]
  },
  {
   "cell_type": "code",
   "execution_count": 10,
   "metadata": {},
   "outputs": [],
   "source": [
    "nvl['Material Quantity'] = -nvl['Material Quantity']"
   ]
  },
  {
   "cell_type": "code",
   "execution_count": 11,
   "metadata": {},
   "outputs": [],
   "source": [
    "sx.drop_duplicates(inplace=True)\n",
    "result = pd.merge(sx, nvl, how=\"left\", on='Order', sort=False,\n",
    "                          indicator=False, validate=None)"
   ]
  },
  {
   "cell_type": "code",
   "execution_count": 12,
   "metadata": {},
   "outputs": [],
   "source": [
    "result = result.groupby(['Product', 'Product Unit', 'Material', 'Material Unit']).agg(\n",
    "            {'Product Quantity': 'sum', 'Material Quantity': 'sum'})"
   ]
  },
  {
   "cell_type": "code",
   "execution_count": 13,
   "metadata": {},
   "outputs": [],
   "source": [
    "result.reset_index(inplace=True)\n",
    "result['BOM'] = result['Material Quantity'] / result['Product Quantity']"
   ]
  },
  {
   "cell_type": "code",
   "execution_count": null,
   "metadata": {},
   "outputs": [],
   "source": []
  },
  {
   "cell_type": "code",
   "execution_count": null,
   "metadata": {},
   "outputs": [],
   "source": []
  },
  {
   "cell_type": "code",
   "execution_count": 15,
   "metadata": {},
   "outputs": [],
   "source": [
    "import pandas as pd\n",
    "df = pd.concat(pd.read_excel(\n",
    "    '../data/2022-03-15_BOM_KG3.xlsx', sheet_name=None,\n",
    "    ), ignore_index=True\n",
    ")"
   ]
  },
  {
   "cell_type": "code",
   "execution_count": 16,
   "metadata": {},
   "outputs": [],
   "source": [
    "# null = df[df['Usage'].notna()]\n",
    "df['Usage'] = df['Usage'].fillna(0)\n",
    "df.to_excel('../output/KG3.xlsx')"
   ]
  },
  {
   "cell_type": "code",
   "execution_count": null,
   "metadata": {},
   "outputs": [],
   "source": []
  },
  {
   "cell_type": "code",
   "execution_count": 20,
   "metadata": {},
   "outputs": [],
   "source": []
  },
  {
   "cell_type": "code",
   "execution_count": 2,
   "metadata": {},
   "outputs": [],
   "source": [
    "df = pd.read_excel('../data/BOM winnercom.xlsx', header=6, usecols=['Mã mẹ', 'Mã con', 'Actual BOM'], converters={'Actual BOM': float})"
   ]
  },
  {
   "cell_type": "code",
   "execution_count": 28,
   "metadata": {},
   "outputs": [
    {
     "data": {
      "text/html": [
       "<div>\n",
       "<style scoped>\n",
       "    .dataframe tbody tr th:only-of-type {\n",
       "        vertical-align: middle;\n",
       "    }\n",
       "\n",
       "    .dataframe tbody tr th {\n",
       "        vertical-align: top;\n",
       "    }\n",
       "\n",
       "    .dataframe thead th {\n",
       "        text-align: right;\n",
       "    }\n",
       "</style>\n",
       "<table border=\"1\" class=\"dataframe\">\n",
       "  <thead>\n",
       "    <tr style=\"text-align: right;\">\n",
       "      <th></th>\n",
       "      <th>Mã mẹ</th>\n",
       "      <th>Mã con</th>\n",
       "      <th>Actual BOM</th>\n",
       "    </tr>\n",
       "  </thead>\n",
       "  <tbody>\n",
       "    <tr>\n",
       "      <th>0</th>\n",
       "      <td>96271L8000</td>\n",
       "      <td>NaN</td>\n",
       "      <td>0.0</td>\n",
       "    </tr>\n",
       "    <tr>\n",
       "      <th>1</th>\n",
       "      <td>96271L8000</td>\n",
       "      <td>W11</td>\n",
       "      <td>1.005746</td>\n",
       "    </tr>\n",
       "    <tr>\n",
       "      <th>2</th>\n",
       "      <td>96271L8000</td>\n",
       "      <td>W14</td>\n",
       "      <td>1.132497</td>\n",
       "    </tr>\n",
       "    <tr>\n",
       "      <th>3</th>\n",
       "      <td>96271L8000</td>\n",
       "      <td>W01</td>\n",
       "      <td>1.007474</td>\n",
       "    </tr>\n",
       "    <tr>\n",
       "      <th>4</th>\n",
       "      <td>96271L8000</td>\n",
       "      <td>W05</td>\n",
       "      <td>1.005183</td>\n",
       "    </tr>\n",
       "    <tr>\n",
       "      <th>...</th>\n",
       "      <td>...</td>\n",
       "      <td>...</td>\n",
       "      <td>...</td>\n",
       "    </tr>\n",
       "    <tr>\n",
       "      <th>3342</th>\n",
       "      <td>717-368483-00006</td>\n",
       "      <td>W04</td>\n",
       "      <td>1.0</td>\n",
       "    </tr>\n",
       "    <tr>\n",
       "      <th>3343</th>\n",
       "      <td>717-368483-00006</td>\n",
       "      <td>W20</td>\n",
       "      <td>1.0</td>\n",
       "    </tr>\n",
       "    <tr>\n",
       "      <th>3344</th>\n",
       "      <td>717-368483-00006</td>\n",
       "      <td>W14</td>\n",
       "      <td>6.0</td>\n",
       "    </tr>\n",
       "    <tr>\n",
       "      <th>3345</th>\n",
       "      <td>717-368483-00006</td>\n",
       "      <td>W26</td>\n",
       "      <td>0.0</td>\n",
       "    </tr>\n",
       "    <tr>\n",
       "      <th>3346</th>\n",
       "      <td>717-368483-00006</td>\n",
       "      <td>F9999-99991</td>\n",
       "      <td>0.0</td>\n",
       "    </tr>\n",
       "  </tbody>\n",
       "</table>\n",
       "<p>3347 rows × 3 columns</p>\n",
       "</div>"
      ],
      "text/plain": [
       "                 Mã mẹ       Mã con Actual BOM\n",
       "0           96271L8000          NaN        0.0\n",
       "1           96271L8000          W11   1.005746\n",
       "2           96271L8000          W14   1.132497\n",
       "3           96271L8000          W01   1.007474\n",
       "4           96271L8000          W05   1.005183\n",
       "...                ...          ...        ...\n",
       "3342  717-368483-00006          W04        1.0\n",
       "3343  717-368483-00006          W20        1.0\n",
       "3344  717-368483-00006          W14        6.0\n",
       "3345  717-368483-00006          W26        0.0\n",
       "3346  717-368483-00006  F9999-99991        0.0\n",
       "\n",
       "[3347 rows x 3 columns]"
      ]
     },
     "execution_count": 28,
     "metadata": {},
     "output_type": "execute_result"
    }
   ],
   "source": [
    "df"
   ]
  },
  {
   "cell_type": "code",
   "execution_count": null,
   "metadata": {},
   "outputs": [],
   "source": []
  },
  {
   "cell_type": "code",
   "execution_count": 3,
   "metadata": {},
   "outputs": [],
   "source": [
    "result = df.groupby(['Mã mẹ', 'Mã con'], sort=False).agg(\n",
    "            {'Actual BOM': 'sum'})"
   ]
  },
  {
   "cell_type": "code",
   "execution_count": 5,
   "metadata": {},
   "outputs": [],
   "source": [
    "result.to_excel('../output/winnercom.xlsx')"
   ]
  },
  {
   "cell_type": "code",
   "execution_count": null,
   "metadata": {},
   "outputs": [],
   "source": []
  },
  {
   "cell_type": "code",
   "execution_count": null,
   "metadata": {},
   "outputs": [],
   "source": []
  },
  {
   "cell_type": "code",
   "execution_count": 1,
   "metadata": {},
   "outputs": [],
   "source": [
    "import pandas as pd\n",
    "\n",
    "df = pd.read_excel('../data/BOM 2021.xlsx', header=11)\n",
    "cols = df.columns[18:]\n",
    "df = df[cols]\n",
    "df.set_index('Material Name', inplace=True)\n",
    "trans = df.transpose()\n",
    "cols = trans.columns\n",
    "trans.reset_index(inplace=True)\n",
    "trans = trans.iloc[2:]\n",
    "cols = [x  for x in trans.columns if not pd.isna(x)]\n",
    "trans = trans[cols]\n",
    "\n",
    "trans.melt(id_vars=[\"index\"], ignore_index = False).to_excel('../output/hope.xlsx')\n",
    "result= trans.set_index([\"index\"]).stack()\n",
    "result = result.reset_index()\n",
    "df.reset_index(inplace=True)\n",
    "df = df[['Material Name', 'Unit.1']]\n",
    "df\n",
    "end = pd.merge(\n",
    "    result,\n",
    "    df,\n",
    "    how=\"left\",\n",
    "    on='Material Name',\n",
    "    sort=False,\n",
    "    indicator=False,\n",
    "    validate=None,\n",
    ")\n",
    "end\n",
    "end = end.drop(end[end[0] == 0].index)\n",
    "end.to_excel('../output/hope.xlsx')\n",
    "end.to_excel('../output/hope.xlsx')\n"
   ]
  }
 ],
 "metadata": {
  "interpreter": {
   "hash": "07848780a58b79594e764c069cbda879259c8dd4f8d3e2f88df491e961ef6dc8"
  },
  "kernelspec": {
   "display_name": "Python 3.10.1 ('env': venv)",
   "language": "python",
   "name": "python3"
  },
  "language_info": {
   "codemirror_mode": {
    "name": "ipython",
    "version": 3
   },
   "file_extension": ".py",
   "mimetype": "text/x-python",
   "name": "python",
   "nbconvert_exporter": "python",
   "pygments_lexer": "ipython3",
   "version": "3.10.1"
  },
  "orig_nbformat": 4
 },
 "nbformat": 4,
 "nbformat_minor": 2
}
