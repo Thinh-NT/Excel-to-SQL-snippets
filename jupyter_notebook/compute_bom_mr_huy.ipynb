{
 "cells": [
  {
   "cell_type": "code",
   "execution_count": 5,
   "metadata": {},
   "outputs": [],
   "source": [
    "import pandas as pd\n",
    "cols = ['Material', 'Movement type', 'Qty in unit of entry', 'Unit of Entry', 'Order']\n",
    "df = pd.concat(pd.read_excel(\n",
    "    '../data/TONG.XLSX', sheet_name=None, usecols=cols ,converters={\n",
    "            'Material': str,\n",
    "            'Order': str\n",
    "        }\n",
    "    ), ignore_index=True\n",
    ")\n",
    "\n",
    "df = df.loc[\n",
    "    df['Movement type'].isin([101, 102, 261, 262]) &\n",
    "    ~pd.isna(df['Order'])\n",
    "]\n",
    "sx = df.loc[df['Movement type'].isin([101, 102])]\n",
    "nvl = df.loc[df['Movement type'].isin([261, 262])]\n",
    "sx = sx.groupby(\n",
    "    ['Material', 'Unit of Entry', 'Order']).agg(\n",
    "        {'Qty in unit of entry': 'sum'}\n",
    ")\n",
    "sx.reset_index(inplace=True)\n",
    "sx.rename(columns={\n",
    "    'Material': 'Product',\n",
    "    'Unit of Entry': 'Product Unit',\n",
    "    'Qty in unit of entry': 'Product Quantity'\n",
    "}, inplace=True)\n",
    "sx = sx.loc[sx['Product Quantity'] != 0]\n",
    "\n",
    "nvl = nvl.groupby(\n",
    "    ['Material', 'Unit of Entry', 'Order']).agg(\n",
    "        {'Qty in unit of entry': 'sum'}\n",
    ")\n",
    "nvl.reset_index(inplace=True)\n",
    "nvl.rename(columns={\n",
    "    'Unit of Entry': 'Material Unit',\n",
    "    'Qty in unit of entry': 'Material Quantity'\n",
    "}, inplace=True)\n",
    "\n",
    "nvl['Material Quantity'] = -nvl['Material Quantity']\n",
    "sx.drop_duplicates(inplace=True)\n",
    "result = pd.merge(sx, nvl, how=\"left\", on='Order', sort=False,\n",
    "                          indicator=False, validate=None)\n",
    "result = result.groupby(['Product', 'Product Unit', 'Material', 'Material Unit']).agg(\n",
    "            {'Product Quantity': 'sum', 'Material Quantity': 'sum'})\n",
    "result.reset_index(inplace=True)\n",
    "result['BOM'] = result['Material Quantity'] / result['Product Quantity']\n"
   ]
  },
  {
   "cell_type": "code",
   "execution_count": 1,
   "metadata": {},
   "outputs": [
    {
     "name": "stderr",
     "output_type": "stream",
     "text": [
      "d:\\Projects\\Excel-to-SQL-snippets\\env\\lib\\site-packages\\openpyxl\\worksheet\\_reader.py:312: UserWarning: Unknown extension is not supported and will be removed\n",
      "  warn(msg)\n",
      "d:\\Projects\\Excel-to-SQL-snippets\\env\\lib\\site-packages\\openpyxl\\worksheet\\_reader.py:312: UserWarning: Conditional Formatting extension is not supported and will be removed\n",
      "  warn(msg)\n"
     ]
    }
   ],
   "source": [
    "import pandas as pd\n",
    "df = pd.concat(pd.read_excel(\n",
    "    '../data/2022-03-24_BOM_KG3.xlsx', sheet_name=None,\n",
    "    ), ignore_index=True\n",
    ")\n",
    "df = df[df['Usage'].notna()]\n",
    "df.to_excel('../output/KG3.xlsx')\n",
    "\n",
    "\n",
    "df = pd.read_excel('../data/BOM winnercom.xlsx', header=6, usecols=['Mã mẹ', 'Mã con', 'Actual BOM'], converters={'Actual BOM': float})\n",
    "df\n",
    "\n",
    "result = df.groupby(['Mã mẹ', 'Mã con'], sort=False).agg(\n",
    "            {'Actual BOM': 'sum'})\n",
    "result.to_excel('../output/winnercom.xlsx')\n",
    "\n",
    "\n",
    "import pandas as pd\n",
    "\n",
    "df = pd.read_excel('../data/BOM 2021.xlsx', header=11)\n",
    "cols = df.columns[18:]\n",
    "df = df[cols]\n",
    "df.set_index('Material Name', inplace=True)\n",
    "trans = df.transpose()\n",
    "cols = trans.columns\n",
    "trans.reset_index(inplace=True)\n",
    "trans = trans.iloc[2:]\n",
    "cols = [x for x in trans.columns if not pd.isna(x)]\n",
    "trans = trans[cols]\n",
    "\n",
    "trans.melt(id_vars=[\"index\"], ignore_index = False).to_excel('../output/hope.xlsx')\n",
    "result= trans.set_index([\"index\"]).stack()\n",
    "result = result.reset_index()\n",
    "df.reset_index(inplace=True)\n",
    "df = df[['Material Name', 'Unit.1']]\n",
    "end = pd.merge(\n",
    "    result,\n",
    "    df,\n",
    "    how=\"left\",\n",
    "    on='Material Name',\n",
    "    sort=False,\n",
    "    indicator=False,\n",
    "    validate=None,\n",
    ")\n",
    "end = end.drop(end[end[0] == 0].index)\n"
   ]
  }
 ],
 "metadata": {
  "interpreter": {
   "hash": "07848780a58b79594e764c069cbda879259c8dd4f8d3e2f88df491e961ef6dc8"
  },
  "kernelspec": {
   "display_name": "Python 3.10.1 ('env': venv)",
   "language": "python",
   "name": "python3"
  },
  "language_info": {
   "codemirror_mode": {
    "name": "ipython",
    "version": 3
   },
   "file_extension": ".py",
   "mimetype": "text/x-python",
   "name": "python",
   "nbconvert_exporter": "python",
   "pygments_lexer": "ipython3",
   "version": "3.10.1"
  },
  "orig_nbformat": 4
 },
 "nbformat": 4,
 "nbformat_minor": 2
}
