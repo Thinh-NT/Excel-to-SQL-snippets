{
 "cells": [
  {
   "cell_type": "code",
   "execution_count": 2,
   "id": "ca3a8d50",
   "metadata": {},
   "outputs": [],
   "source": [
    "import pandas as pd\n",
    "import numpy as np\n",
    "import warnings\n",
    "\n",
    "pd.options.mode.chained_assignment = None\n",
    "\n",
    "warnings.simplefilter(action='ignore', category=FutureWarning)\n",
    "\n",
    "item_master_excel_file = '../data/inzi/Item Master_08_18_2021 0317.xls'\n",
    "material_history_excel_file = '../data/inzi/Material Movement History_08_19_2021 1026.xls'\n",
    "out_put_file = '../output/9-15.xlsx'\n",
    "\n",
    "item_master = pd.read_excel(\n",
    "    item_master_excel_file, index_col=False, header=1\n",
    ")\n",
    "material_history = pd.read_excel(\n",
    "    material_history_excel_file, index_col=False, header=1\n",
    ")\n",
    "\n",
    "# Item master excel file must have 3 columns 'Material', 'Material Type', 'Procurement'\n",
    "temp_item_master = item_master[['Material', 'Material Type', 'Procurement']]\n",
    "\n",
    "'''\n",
    "PREPARE FOR STEP ONE\n",
    "'''\n",
    "step_one = pd.merge(material_history, temp_item_master,\n",
    "                    on=\"Material\", how=\"left\")\n",
    "\n",
    "step_one.rename(columns={\n",
    "    'Reference': 'Order Category',\n",
    "    'Unnamed: 13': 'Order Data',\n",
    "    'Unnamed: 14': 'Master Category',\n",
    "    'Unnamed: 15': 'Master Data',\n",
    "    'Unnamed: 16': 'Remark'\n",
    "}, inplace=True)\n",
    "\n",
    "step_one = step_one.iloc[1:, :]\n",
    "\n",
    "# pd.set_option('mode.chained_assignment', None)\n",
    "\n",
    "step_one.loc[step_one['Quantity'] > 0, 'Input'] = step_one['Quantity']\n",
    "step_one.loc[step_one['Quantity'] > 0, 'Output'] = 0\n",
    "step_one.loc[step_one['Quantity'] <= 0, 'Input'] = 0\n",
    "step_one.loc[step_one['Quantity'] <= 0, 'Output'] = -step_one['Quantity']\n",
    "\n",
    "cols = step_one.columns.tolist()\n",
    "\n",
    "cols = cols[:10] + [cols[-2], cols[-1]] + cols[10:-2]\n",
    "\n",
    "step_one = step_one[cols]\n",
    "\n",
    "step_one['Account code'] = [int(x)\n",
    "                            for x in (step_one['Movement Type'].str[:3])]\n",
    "\n",
    "cols = step_one.columns.tolist()\n",
    "cols = cols[:7] + [cols[-1]] + cols[7: -1]\n",
    "step_one = step_one[cols]\n",
    "\n",
    "columns_name = {\n",
    "    'H': 'Account code',\n",
    "    'p': 'Order Category',\n",
    "    'W': 'Material Type',\n",
    "    'X': 'Procurement'\n",
    "}\n",
    "\n"
   ]
  },
  {
   "cell_type": "code",
   "execution_count": 6,
   "id": "86f1f860",
   "metadata": {},
   "outputs": [],
   "source": [
    "summary = step_one.pivot_table(index=[\"Material\"],\n",
    "                            columns=\"Account code\", values=\"Quantity\", aggfunc='sum')\n",
    "\n",
    "\n",
    "summary.fillna(0, inplace=True)\n",
    "in_columns = []\n",
    "out_columns = []\n",
    "\n",
    "\n",
    "for column in summary.columns:\n",
    "    if column in [101, 602, 720, 801, 809]:\n",
    "        in_columns.append(column)\n",
    "    if column in [102, 201, 261, 555, 601, 609, 721, 803]:\n",
    "        out_columns.append(column)\n",
    "\n",
    "summary['IN'] = summary[in_columns].sum(axis=1)\n",
    "summary['OUT'] = summary[out_columns].sum(axis=1)"
   ]
  },
  {
   "cell_type": "code",
   "execution_count": 3,
   "id": "cc0eadeb",
   "metadata": {},
   "outputs": [
    {
     "name": "stdout",
     "output_type": "stream",
     "text": [
      "101\n",
      "261\n",
      "401\n",
      "343\n",
      "609\n",
      "601\n",
      "720\n",
      "344\n",
      "721\n",
      "201\n",
      "623\n",
      "321\n"
     ]
    }
   ],
   "source": [
    "for column in pd.unique(step_one['Account code']):\n",
    "    print(column)"
   ]
  },
  {
   "cell_type": "code",
   "execution_count": null,
   "id": "797ef4ad",
   "metadata": {},
   "outputs": [],
   "source": []
  }
 ],
 "metadata": {
  "kernelspec": {
   "display_name": "Python 3 (ipykernel)",
   "language": "python",
   "name": "python3"
  },
  "language_info": {
   "codemirror_mode": {
    "name": "ipython",
    "version": 3
   },
   "file_extension": ".py",
   "mimetype": "text/x-python",
   "name": "python",
   "nbconvert_exporter": "python",
   "pygments_lexer": "ipython3",
   "version": "3.9.6"
  }
 },
 "nbformat": 4,
 "nbformat_minor": 5
}
