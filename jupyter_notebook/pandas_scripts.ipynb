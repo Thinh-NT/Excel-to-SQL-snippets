{
 "cells": [
  {
   "cell_type": "code",
   "execution_count": null,
   "id": "09430891",
   "metadata": {},
   "outputs": [],
   "source": [
    "import pandas as pd"
   ]
  },
  {
   "cell_type": "code",
   "execution_count": null,
   "id": "1fd2e8d2",
   "metadata": {},
   "outputs": [],
   "source": [
    "pd.set_option('display.max_columns', 45)\n",
    "pd.set_option('display.max_rows', 60)"
   ]
  },
  {
   "cell_type": "code",
   "execution_count": null,
   "id": "cf3be732",
   "metadata": {},
   "outputs": [],
   "source": [
    "# df = pd.read_excel('data/Dataset.xlsx', dtype={'PROVIDE_FLAG': str}, index_col=False)\n",
    "df = pd.read_excel('../data/Dataset.xlsx', index_col=False)"
   ]
  },
  {
   "cell_type": "code",
   "execution_count": null,
   "id": "67054446",
   "metadata": {},
   "outputs": [],
   "source": [
    "df.shape"
   ]
  },
  {
   "cell_type": "code",
   "execution_count": null,
   "id": "6dfca54e",
   "metadata": {},
   "outputs": [],
   "source": [
    "df.info()"
   ]
  },
  {
   "cell_type": "code",
   "execution_count": null,
   "id": "9d7e991a",
   "metadata": {},
   "outputs": [],
   "source": [
    "df.set_index('ITEM_NO', inplace=True)"
   ]
  },
  {
   "cell_type": "code",
   "execution_count": null,
   "id": "50070eb1",
   "metadata": {},
   "outputs": [],
   "source": [
    "# df.count()"
   ]
  },
  {
   "cell_type": "code",
   "execution_count": null,
   "id": "c3964906",
   "metadata": {},
   "outputs": [],
   "source": [
    "df.columns"
   ]
  },
  {
   "cell_type": "code",
   "execution_count": null,
   "id": "a6096a57",
   "metadata": {},
   "outputs": [],
   "source": [
    "# df.iloc[0]\n",
    "# df.iloc[[0, 1]]\n",
    "# df.iloc[[0, 1], [0, 2]]"
   ]
  },
  {
   "cell_type": "code",
   "execution_count": null,
   "id": "8da1df43",
   "metadata": {},
   "outputs": [],
   "source": [
    "# df['ITEM_NO'].value_counts().head(30)"
   ]
  },
  {
   "cell_type": "code",
   "execution_count": null,
   "id": "4b11ec2f",
   "metadata": {
    "scrolled": true
   },
   "outputs": [],
   "source": [
    "# df.loc[df['ITEM_NO'] == 1][0:100]"
   ]
  },
  {
   "cell_type": "code",
   "execution_count": null,
   "id": "51d20ce7",
   "metadata": {},
   "outputs": [],
   "source": [
    "# item_df = df[['ITEM_NO', 'PLANT', 'PROVIDE_FLAG']]"
   ]
  },
  {
   "cell_type": "code",
   "execution_count": null,
   "id": "b5b44735",
   "metadata": {
    "scrolled": true
   },
   "outputs": [],
   "source": [
    "# item_df"
   ]
  },
  {
   "cell_type": "code",
   "execution_count": null,
   "id": "f3f8111e",
   "metadata": {
    "scrolled": true
   },
   "outputs": [],
   "source": [
    "# item_df = item_df.drop_duplicates(subset=None, keep='first', inplace=False).sort_values(by=['ITEM_NO'])\n",
    "# item_df[0:100]"
   ]
  },
  {
   "cell_type": "code",
   "execution_count": null,
   "id": "c86d392d",
   "metadata": {},
   "outputs": [],
   "source": [
    "# item_df.to_excel('item_no.xlsx', index=False)"
   ]
  },
  {
   "cell_type": "code",
   "execution_count": null,
   "id": "0ebad6f5",
   "metadata": {},
   "outputs": [],
   "source": [
    "storage_df = df['STORAGE_TYPE']"
   ]
  },
  {
   "cell_type": "code",
   "execution_count": null,
   "id": "b5db4f48",
   "metadata": {},
   "outputs": [],
   "source": [
    "storage_df.value_counts()"
   ]
  },
  {
   "cell_type": "code",
   "execution_count": null,
   "id": "3903fddd",
   "metadata": {},
   "outputs": [],
   "source": [
    "storage_rewk = df[df['STORAGE_TYPE'] == 'REWK']"
   ]
  },
  {
   "cell_type": "code",
   "execution_count": null,
   "id": "30acdf7b",
   "metadata": {
    "scrolled": true
   },
   "outputs": [],
   "source": [
    "storage_rewk"
   ]
  },
  {
   "cell_type": "code",
   "execution_count": null,
   "id": "7ddfdbfa",
   "metadata": {},
   "outputs": [],
   "source": [
    "df.index"
   ]
  },
  {
   "cell_type": "code",
   "execution_count": null,
   "id": "1c1d10a1",
   "metadata": {
    "scrolled": false
   },
   "outputs": [],
   "source": [
    "# df.set_index('ITEM_NO', inplace=True)"
   ]
  },
  {
   "cell_type": "code",
   "execution_count": null,
   "id": "c6d5ff4a",
   "metadata": {},
   "outputs": [],
   "source": [
    "df.sort_index(inplace=True)"
   ]
  },
  {
   "cell_type": "code",
   "execution_count": null,
   "id": "4ed0d62a",
   "metadata": {},
   "outputs": [],
   "source": [
    "df"
   ]
  },
  {
   "cell_type": "code",
   "execution_count": null,
   "id": "ec59325d",
   "metadata": {},
   "outputs": [],
   "source": [
    "df['YEAR'] == 2021"
   ]
  },
  {
   "cell_type": "code",
   "execution_count": null,
   "id": "464b75bb",
   "metadata": {},
   "outputs": [],
   "source": [
    "my_filter = ((df['STORAGE_TYPE'].isin(['WIP', 'NORM'])) | (df['DOCUMENT_TYPE'] == 'GR' ))"
   ]
  },
  {
   "cell_type": "code",
   "execution_count": null,
   "id": "dcdc5533",
   "metadata": {},
   "outputs": [],
   "source": [
    "df[my_filter]"
   ]
  },
  {
   "cell_type": "code",
   "execution_count": null,
   "id": "368c5542",
   "metadata": {
    "scrolled": false
   },
   "outputs": [],
   "source": [
    "df.loc[~my_filter, ['DOCUMENT', 'DOCUMENT_TYPE']]"
   ]
  },
  {
   "cell_type": "code",
   "execution_count": null,
   "id": "089dae10",
   "metadata": {},
   "outputs": [],
   "source": [
    "df.columns = [column.upper() for column in df.columns]"
   ]
  },
  {
   "cell_type": "code",
   "execution_count": null,
   "id": "fa16b284",
   "metadata": {},
   "outputs": [],
   "source": [
    "df"
   ]
  },
  {
   "cell_type": "code",
   "execution_count": null,
   "id": "5580faf0",
   "metadata": {},
   "outputs": [],
   "source": []
  }
 ],
 "metadata": {
  "interpreter": {
   "hash": "07848780a58b79594e764c069cbda879259c8dd4f8d3e2f88df491e961ef6dc8"
  },
  "kernelspec": {
   "display_name": "Python 3 (ipykernel)",
   "language": "python",
   "name": "python3"
  },
  "language_info": {
   "codemirror_mode": {
    "name": "ipython",
    "version": 3
   },
   "file_extension": ".py",
   "mimetype": "text/x-python",
   "name": "python",
   "nbconvert_exporter": "python",
   "pygments_lexer": "ipython3",
   "version": "3.9.6"
  }
 },
 "nbformat": 4,
 "nbformat_minor": 5
}
