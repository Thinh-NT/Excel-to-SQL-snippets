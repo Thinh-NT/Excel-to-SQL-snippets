{
 "cells": [
  {
   "cell_type": "code",
   "execution_count": 1,
   "id": "30d5ff8d",
   "metadata": {},
   "outputs": [],
   "source": [
    "import pandas as pd\n",
    "import numpy as np\n",
    "\n",
    "''' Set dataframe options '''\n",
    "\n",
    "pd.options.mode.chained_assignment = None\n",
    "pd.set_option('display.max_columns', 30)\n",
    "pd.set_option('display.max_rows', 55)"
   ]
  },
  {
   "cell_type": "code",
   "execution_count": 9,
   "id": "553191fd",
   "metadata": {},
   "outputs": [],
   "source": [
    "\n",
    "''' Read input file '''\n",
    "iob_file = '../data/ewha/iob.xls'\n",
    "\n",
    "iob = pd.read_excel(iob_file, header=9)"
   ]
  },
  {
   "cell_type": "code",
   "execution_count": null,
   "id": "7cbf90b4",
   "metadata": {},
   "outputs": [],
   "source": []
  },
  {
   "cell_type": "code",
   "execution_count": null,
   "id": "f7d55a84",
   "metadata": {},
   "outputs": [],
   "source": []
  }
 ],
 "metadata": {
  "kernelspec": {
   "display_name": "Python 3 (ipykernel)",
   "language": "python",
   "name": "python3"
  },
  "language_info": {
   "codemirror_mode": {
    "name": "ipython",
    "version": 3
   },
   "file_extension": ".py",
   "mimetype": "text/x-python",
   "name": "python",
   "nbconvert_exporter": "python",
   "pygments_lexer": "ipython3",
   "version": "3.9.6"
  }
 },
 "nbformat": 4,
 "nbformat_minor": 5
}
