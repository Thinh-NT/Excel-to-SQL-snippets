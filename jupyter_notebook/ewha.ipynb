{
 "cells": [
  {
   "cell_type": "code",
   "execution_count": 2,
   "id": "30d5ff8d",
   "metadata": {},
   "outputs": [],
   "source": [
    "import pandas as pd\n",
    "import numpy as np\n",
    "\n",
    "''' Set dataframe options '''\n",
    "\n",
    "pd.options.mode.chained_assignment = None\n",
    "pd.set_option('display.max_columns', 30)\n",
    "pd.set_option('display.max_rows', 55)"
   ]
  },
  {
   "cell_type": "code",
   "execution_count": 35,
   "id": "553191fd",
   "metadata": {},
   "outputs": [],
   "source": [
    "\n",
    "''' Read input file '''\n",
    "baocaohangchitiet = '../data/ewha/BaoCaoHangChiTiet 01062021-05072021.xls'\n",
    "kho_nvl = '../data/ewha/Tình hình nhập mua NVL Q1.2021.xlsx'\n",
    "\n",
    "baocaohangchitiet_df = pd.read_excel(baocaohangchitiet, header=9)\n",
    "kho_nvl_df = pd.read_excel(kho_nvl, header=4)"
   ]
  },
  {
   "cell_type": "code",
   "execution_count": 36,
   "id": "7cbf90b4",
   "metadata": {
    "scrolled": true
   },
   "outputs": [],
   "source": [
    "E11_E15 = baocaohangchitiet_df.loc[((baocaohangchitiet_df['Mã loại hình'] == 'E11') | (baocaohangchitiet_df['Mã loại hình'] == 'E15')), [\n",
    "    'Mã NPL/SP', 'Đơn vị tính', 'Tổng số lượng']]"
   ]
  },
  {
   "cell_type": "code",
   "execution_count": null,
   "id": "7eb417a6",
   "metadata": {},
   "outputs": [],
   "source": []
  },
  {
   "cell_type": "code",
   "execution_count": 38,
   "id": "f7d55a84",
   "metadata": {},
   "outputs": [],
   "source": [
    "E11_E15_temp = E11_E15.groupby(['Mã NPL/SP', 'Đơn vị tính']).sum()"
   ]
  },
  {
   "cell_type": "code",
   "execution_count": 41,
   "id": "68a84684",
   "metadata": {},
   "outputs": [],
   "source": [
    "E11_E15_temp.reset_index(inplace=True)"
   ]
  },
  {
   "cell_type": "code",
   "execution_count": 42,
   "id": "f11be86d",
   "metadata": {},
   "outputs": [
    {
     "data": {
      "text/html": [
       "<div>\n",
       "<style scoped>\n",
       "    .dataframe tbody tr th:only-of-type {\n",
       "        vertical-align: middle;\n",
       "    }\n",
       "\n",
       "    .dataframe tbody tr th {\n",
       "        vertical-align: top;\n",
       "    }\n",
       "\n",
       "    .dataframe thead th {\n",
       "        text-align: right;\n",
       "    }\n",
       "</style>\n",
       "<table border=\"1\" class=\"dataframe\">\n",
       "  <thead>\n",
       "    <tr style=\"text-align: right;\">\n",
       "      <th></th>\n",
       "      <th>Mã NPL/SP</th>\n",
       "      <th>Đơn vị tính</th>\n",
       "      <th>Tổng số lượng</th>\n",
       "    </tr>\n",
       "  </thead>\n",
       "  <tbody>\n",
       "    <tr>\n",
       "      <th>0</th>\n",
       "      <td>11003105</td>\n",
       "      <td>CARATS</td>\n",
       "      <td>150000.0</td>\n",
       "    </tr>\n",
       "    <tr>\n",
       "      <th>1</th>\n",
       "      <td>11003108</td>\n",
       "      <td>CARATS</td>\n",
       "      <td>45000.0</td>\n",
       "    </tr>\n",
       "    <tr>\n",
       "      <th>2</th>\n",
       "      <td>11003205</td>\n",
       "      <td>CARATS</td>\n",
       "      <td>5000.0</td>\n",
       "    </tr>\n",
       "    <tr>\n",
       "      <th>3</th>\n",
       "      <td>11032005</td>\n",
       "      <td>CARATS</td>\n",
       "      <td>30000.0</td>\n",
       "    </tr>\n",
       "    <tr>\n",
       "      <th>4</th>\n",
       "      <td>11040021</td>\n",
       "      <td>CARATS</td>\n",
       "      <td>200000.0</td>\n",
       "    </tr>\n",
       "    <tr>\n",
       "      <th>...</th>\n",
       "      <td>...</td>\n",
       "      <td>...</td>\n",
       "      <td>...</td>\n",
       "    </tr>\n",
       "    <tr>\n",
       "      <th>1034</th>\n",
       "      <td>V6009864</td>\n",
       "      <td>PIECES</td>\n",
       "      <td>6000.0</td>\n",
       "    </tr>\n",
       "    <tr>\n",
       "      <th>1035</th>\n",
       "      <td>V6009864</td>\n",
       "      <td>TO</td>\n",
       "      <td>3000.0</td>\n",
       "    </tr>\n",
       "    <tr>\n",
       "      <th>1036</th>\n",
       "      <td>V605T001</td>\n",
       "      <td>PIECES</td>\n",
       "      <td>4000.0</td>\n",
       "    </tr>\n",
       "    <tr>\n",
       "      <th>1037</th>\n",
       "      <td>V605T002</td>\n",
       "      <td>PIECES</td>\n",
       "      <td>4000.0</td>\n",
       "    </tr>\n",
       "    <tr>\n",
       "      <th>1038</th>\n",
       "      <td>V614T002</td>\n",
       "      <td>TO</td>\n",
       "      <td>2000.0</td>\n",
       "    </tr>\n",
       "  </tbody>\n",
       "</table>\n",
       "<p>1039 rows × 3 columns</p>\n",
       "</div>"
      ],
      "text/plain": [
       "     Mã NPL/SP Đơn vị tính  Tổng số lượng\n",
       "0     11003105      CARATS       150000.0\n",
       "1     11003108      CARATS        45000.0\n",
       "2     11003205      CARATS         5000.0\n",
       "3     11032005      CARATS        30000.0\n",
       "4     11040021      CARATS       200000.0\n",
       "...        ...         ...            ...\n",
       "1034  V6009864      PIECES         6000.0\n",
       "1035  V6009864          TO         3000.0\n",
       "1036  V605T001      PIECES         4000.0\n",
       "1037  V605T002      PIECES         4000.0\n",
       "1038  V614T002          TO         2000.0\n",
       "\n",
       "[1039 rows x 3 columns]"
      ]
     },
     "execution_count": 42,
     "metadata": {},
     "output_type": "execute_result"
    }
   ],
   "source": [
    "E11_E15_temp"
   ]
  },
  {
   "cell_type": "code",
   "execution_count": null,
   "id": "21ae66a8",
   "metadata": {},
   "outputs": [],
   "source": []
  },
  {
   "cell_type": "code",
   "execution_count": null,
   "id": "6e009e50",
   "metadata": {},
   "outputs": [],
   "source": []
  },
  {
   "cell_type": "code",
   "execution_count": 78,
   "id": "a6a93395",
   "metadata": {},
   "outputs": [],
   "source": [
    "kho_nvl_df = pd.read_excel(kho_nvl, header=4)\n",
    "# kho_nvl_df = kho_nvl_df.iloc[1: , :]\n",
    "kho_nvl_df = kho_nvl_df[(kho_nvl_df['Ngày nhập kho'] != 'TOTAL') & (kho_nvl_df['Ngày nhập kho'] != 'Ngày nhập kho')]"
   ]
  },
  {
   "cell_type": "code",
   "execution_count": 79,
   "id": "516f73c5",
   "metadata": {},
   "outputs": [],
   "source": [
    "kho_nvl_df = kho_nvl_df[['Mã hàng', 'Đơn vị mua vào', 'Số lượng nhập kho(Đơn vị lưu kho)']]"
   ]
  },
  {
   "cell_type": "code",
   "execution_count": null,
   "id": "66a2d0c2",
   "metadata": {},
   "outputs": [],
   "source": []
  },
  {
   "cell_type": "code",
   "execution_count": 75,
   "id": "7b59a9a1",
   "metadata": {},
   "outputs": [],
   "source": []
  },
  {
   "cell_type": "code",
   "execution_count": 81,
   "id": "642ab06e",
   "metadata": {},
   "outputs": [],
   "source": [
    "kho_nvl_df['Số lượng nhập kho(Đơn vị lưu kho)'] = pd.to_numeric(\n",
    "    kho_nvl_df['Số lượng nhập kho(Đơn vị lưu kho)']\n",
    ")"
   ]
  },
  {
   "cell_type": "code",
   "execution_count": 82,
   "id": "88af9170",
   "metadata": {},
   "outputs": [],
   "source": [
    "kho_nvl_df = kho_nvl_df.groupby(['Mã hàng', 'Đơn vị mua vào']).sum()"
   ]
  },
  {
   "cell_type": "code",
   "execution_count": 83,
   "id": "2f3e15ec",
   "metadata": {},
   "outputs": [
    {
     "data": {
      "text/html": [
       "<div>\n",
       "<style scoped>\n",
       "    .dataframe tbody tr th:only-of-type {\n",
       "        vertical-align: middle;\n",
       "    }\n",
       "\n",
       "    .dataframe tbody tr th {\n",
       "        vertical-align: top;\n",
       "    }\n",
       "\n",
       "    .dataframe thead th {\n",
       "        text-align: right;\n",
       "    }\n",
       "</style>\n",
       "<table border=\"1\" class=\"dataframe\">\n",
       "  <thead>\n",
       "    <tr style=\"text-align: right;\">\n",
       "      <th></th>\n",
       "      <th></th>\n",
       "      <th>Số lượng nhập kho(Đơn vị lưu kho)</th>\n",
       "    </tr>\n",
       "    <tr>\n",
       "      <th>Mã hàng</th>\n",
       "      <th>Đơn vị mua vào</th>\n",
       "      <th></th>\n",
       "    </tr>\n",
       "  </thead>\n",
       "  <tbody>\n",
       "    <tr>\n",
       "      <th>11003105</th>\n",
       "      <th>CT</th>\n",
       "      <td>150000</td>\n",
       "    </tr>\n",
       "    <tr>\n",
       "      <th>11003108</th>\n",
       "      <th>CT</th>\n",
       "      <td>10000</td>\n",
       "    </tr>\n",
       "    <tr>\n",
       "      <th>11003205</th>\n",
       "      <th>CT</th>\n",
       "      <td>5000</td>\n",
       "    </tr>\n",
       "    <tr>\n",
       "      <th>11040021</th>\n",
       "      <th>CT</th>\n",
       "      <td>300000</td>\n",
       "    </tr>\n",
       "    <tr>\n",
       "      <th>11040022</th>\n",
       "      <th>CT</th>\n",
       "      <td>2000</td>\n",
       "    </tr>\n",
       "    <tr>\n",
       "      <th>...</th>\n",
       "      <th>...</th>\n",
       "      <td>...</td>\n",
       "    </tr>\n",
       "    <tr>\n",
       "      <th>V1306168</th>\n",
       "      <th>pc</th>\n",
       "      <td>2000</td>\n",
       "    </tr>\n",
       "    <tr>\n",
       "      <th>V1307626</th>\n",
       "      <th>pc</th>\n",
       "      <td>4000</td>\n",
       "    </tr>\n",
       "    <tr>\n",
       "      <th>V6009039</th>\n",
       "      <th>pc</th>\n",
       "      <td>1000</td>\n",
       "    </tr>\n",
       "    <tr>\n",
       "      <th>V6009563</th>\n",
       "      <th>pc</th>\n",
       "      <td>2000</td>\n",
       "    </tr>\n",
       "    <tr>\n",
       "      <th>V6009864</th>\n",
       "      <th>pc</th>\n",
       "      <td>6000</td>\n",
       "    </tr>\n",
       "  </tbody>\n",
       "</table>\n",
       "<p>743 rows × 1 columns</p>\n",
       "</div>"
      ],
      "text/plain": [
       "                          Số lượng nhập kho(Đơn vị lưu kho)\n",
       "Mã hàng Đơn vị mua vào                                       \n",
       "11003105  CT                                             150000\n",
       "11003108  CT                                              10000\n",
       "11003205  CT                                               5000\n",
       "11040021  CT                                             300000\n",
       "11040022  CT                                               2000\n",
       "...                                                         ...\n",
       "V1306168  pc                                               2000\n",
       "V1307626  pc                                               4000\n",
       "V6009039  pc                                               1000\n",
       "V6009563  pc                                               2000\n",
       "V6009864  pc                                               6000\n",
       "\n",
       "[743 rows x 1 columns]"
      ]
     },
     "execution_count": 83,
     "metadata": {},
     "output_type": "execute_result"
    }
   ],
   "source": [
    "kho_nvl_df"
   ]
  },
  {
   "cell_type": "code",
   "execution_count": null,
   "id": "a13c5d70",
   "metadata": {},
   "outputs": [],
   "source": []
  }
 ],
 "metadata": {
  "kernelspec": {
   "display_name": "Python 3 (ipykernel)",
   "language": "python",
   "name": "python3"
  },
  "language_info": {
   "codemirror_mode": {
    "name": "ipython",
    "version": 3
   },
   "file_extension": ".py",
   "mimetype": "text/x-python",
   "name": "python",
   "nbconvert_exporter": "python",
   "pygments_lexer": "ipython3",
   "version": "3.9.6"
  }
 },
 "nbformat": 4,
 "nbformat_minor": 5
}
