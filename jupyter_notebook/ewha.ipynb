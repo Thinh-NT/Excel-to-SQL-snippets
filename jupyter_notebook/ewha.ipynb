{
 "cells": [
  {
   "cell_type": "code",
   "execution_count": null,
   "id": "30d5ff8d",
   "metadata": {},
   "outputs": [],
   "source": [
    "import pandas as pd\n",
    "import numpy as np\n",
    "\n",
    "''' Set dataframe options '''\n",
    "\n",
    "pd.options.mode.chained_assignment = None\n",
    "pd.set_option('display.max_columns', 30)\n",
    "pd.set_option('display.max_rows', 55)"
   ]
  },
  {
   "cell_type": "code",
   "execution_count": null,
   "id": "553191fd",
   "metadata": {},
   "outputs": [],
   "source": [
    "\n",
    "''' Read input file '''\n",
    "baocaohangchitiet = '../data/ewha/BaoCaoHangChiTiet 01062021-05072021.xls'\n",
    "kho_nvl = '../data/ewha/Tình hình nhập mua NVL Q1.2021.xlsx'\n",
    "\n",
    "baocaohangchitiet_df = pd.read_excel(baocaohangchitiet, header=9)\n",
    "kho_nvl_df = pd.read_excel(kho_nvl, header=4)"
   ]
  },
  {
   "cell_type": "code",
   "execution_count": null,
   "id": "7cbf90b4",
   "metadata": {
    "scrolled": true
   },
   "outputs": [],
   "source": [
    "E11_E15 = baocaohangchitiet_df.loc[((baocaohangchitiet_df['Mã loại hình'] == 'E11') | (baocaohangchitiet_df['Mã loại hình'] == 'E15')), [\n",
    "    'Mã NPL/SP', 'Đơn vị tính', 'Tổng số lượng']]"
   ]
  },
  {
   "cell_type": "code",
   "execution_count": null,
   "id": "7eb417a6",
   "metadata": {},
   "outputs": [],
   "source": []
  },
  {
   "cell_type": "code",
   "execution_count": null,
   "id": "f7d55a84",
   "metadata": {},
   "outputs": [],
   "source": [
    "E11_E15_temp = E11_E15.groupby(['Mã NPL/SP', 'Đơn vị tính']).sum()"
   ]
  },
  {
   "cell_type": "code",
   "execution_count": null,
   "id": "68a84684",
   "metadata": {},
   "outputs": [],
   "source": [
    "E11_E15_temp.reset_index(inplace=True)"
   ]
  },
  {
   "cell_type": "code",
   "execution_count": null,
   "id": "f11be86d",
   "metadata": {},
   "outputs": [],
   "source": [
    "E11_E15_temp"
   ]
  },
  {
   "cell_type": "code",
   "execution_count": null,
   "id": "21ae66a8",
   "metadata": {},
   "outputs": [],
   "source": []
  },
  {
   "cell_type": "code",
   "execution_count": null,
   "id": "6e009e50",
   "metadata": {},
   "outputs": [],
   "source": []
  },
  {
   "cell_type": "code",
   "execution_count": null,
   "id": "a6a93395",
   "metadata": {},
   "outputs": [],
   "source": [
    "kho_nvl_df = pd.read_excel(kho_nvl, header=4)\n",
    "# kho_nvl_df = kho_nvl_df.iloc[1: , :]\n",
    "kho_nvl_df = kho_nvl_df[(kho_nvl_df['Ngày nhập kho'] != 'TOTAL') & (kho_nvl_df['Ngày nhập kho'] != 'Ngày nhập kho')]"
   ]
  },
  {
   "cell_type": "code",
   "execution_count": null,
   "id": "516f73c5",
   "metadata": {},
   "outputs": [],
   "source": [
    "kho_nvl_df = kho_nvl_df[['Mã hàng', 'Đơn vị mua vào', 'Số lượng nhập kho(Đơn vị lưu kho)']]"
   ]
  },
  {
   "cell_type": "code",
   "execution_count": null,
   "id": "66a2d0c2",
   "metadata": {},
   "outputs": [],
   "source": []
  },
  {
   "cell_type": "code",
   "execution_count": null,
   "id": "7b59a9a1",
   "metadata": {},
   "outputs": [],
   "source": []
  },
  {
   "cell_type": "code",
   "execution_count": null,
   "id": "642ab06e",
   "metadata": {},
   "outputs": [],
   "source": [
    "kho_nvl_df['Số lượng nhập kho(Đơn vị lưu kho)'] = pd.to_numeric(\n",
    "    kho_nvl_df['Số lượng nhập kho(Đơn vị lưu kho)']\n",
    ")"
   ]
  },
  {
   "cell_type": "code",
   "execution_count": null,
   "id": "88af9170",
   "metadata": {},
   "outputs": [],
   "source": [
    "kho_nvl_df = kho_nvl_df.groupby(['Mã hàng', 'Đơn vị mua vào']).sum()"
   ]
  },
  {
   "cell_type": "code",
   "execution_count": null,
   "id": "2f3e15ec",
   "metadata": {},
   "outputs": [],
   "source": [
    "kho_nvl_df"
   ]
  },
  {
   "cell_type": "code",
   "execution_count": null,
   "id": "a13c5d70",
   "metadata": {},
   "outputs": [],
   "source": []
  }
 ],
 "metadata": {
  "kernelspec": {
   "display_name": "Python 3 (ipykernel)",
   "language": "python",
   "name": "python3"
  },
  "language_info": {
   "codemirror_mode": {
    "name": "ipython",
    "version": 3
   },
   "file_extension": ".py",
   "mimetype": "text/x-python",
   "name": "python",
   "nbconvert_exporter": "python",
   "pygments_lexer": "ipython3",
   "version": "3.9.6"
  }
 },
 "nbformat": 4,
 "nbformat_minor": 5
}
