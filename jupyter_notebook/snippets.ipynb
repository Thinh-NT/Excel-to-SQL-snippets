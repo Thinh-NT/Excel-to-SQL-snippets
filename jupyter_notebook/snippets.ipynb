{
 "cells": [
  {
   "cell_type": "code",
   "execution_count": null,
   "id": "ab04d790",
   "metadata": {},
   "outputs": [],
   "source": [
    "import pandas as pd\n",
    "import numpy as np"
   ]
  },
  {
   "cell_type": "code",
   "execution_count": null,
   "id": "61a0796d",
   "metadata": {},
   "outputs": [],
   "source": [
    "pd.set_option('display.max_columns', 45)\n",
    "pd.set_option('display.max_rows', 50)"
   ]
  },
  {
   "cell_type": "code",
   "execution_count": null,
   "id": "6c8c4eb2",
   "metadata": {},
   "outputs": [],
   "source": [
    "item_master = pd.read_excel(r\"data/item_master.xlsx\", header=1)\n",
    "material_history = pd.read_excel('data/Material Movement History.xlsx', header=1)"
   ]
  },
  {
   "cell_type": "code",
   "execution_count": null,
   "id": "82786a8d",
   "metadata": {},
   "outputs": [],
   "source": [
    "# item_master"
   ]
  },
  {
   "cell_type": "code",
   "execution_count": null,
   "id": "d3880387",
   "metadata": {},
   "outputs": [],
   "source": [
    "# material_history"
   ]
  },
  {
   "cell_type": "code",
   "execution_count": null,
   "id": "242e1069",
   "metadata": {},
   "outputs": [],
   "source": [
    "print('Material Shape: ', material_history.shape)\n",
    "print('Item master: ', item_master.shape)\n"
   ]
  },
  {
   "cell_type": "code",
   "execution_count": null,
   "id": "90dfdd28",
   "metadata": {},
   "outputs": [],
   "source": [
    "material_history['Material'].value_counts()"
   ]
  },
  {
   "cell_type": "code",
   "execution_count": null,
   "id": "9a21774d",
   "metadata": {},
   "outputs": [],
   "source": [
    "temp_item_master = item_master[['Material', 'Material Type', 'Procurement']]"
   ]
  },
  {
   "cell_type": "code",
   "execution_count": null,
   "id": "da0c9b51",
   "metadata": {},
   "outputs": [],
   "source": [
    "temp_item_master.loc[temp_item_master['Material'] == 'BN61-08214A']"
   ]
  },
  {
   "cell_type": "code",
   "execution_count": null,
   "id": "c4d29461",
   "metadata": {},
   "outputs": [],
   "source": [
    "step_one = pd.merge(material_history, temp_item_master, on=\"Material\", how=\"left\")"
   ]
  },
  {
   "cell_type": "code",
   "execution_count": null,
   "id": "5c24be5e",
   "metadata": {},
   "outputs": [],
   "source": [
    "step_one"
   ]
  },
  {
   "cell_type": "code",
   "execution_count": null,
   "id": "c555a2d6",
   "metadata": {},
   "outputs": [],
   "source": [
    "# step_one['Input'] = step_one['Quantity'] if step_one['Quantity'] > 0 else None\n",
    "# step_one['Output'] = -step_one['Quantity'] if step_one['Quantity'] < 0 else None\n"
   ]
  },
  {
   "cell_type": "code",
   "execution_count": null,
   "id": "44bb1869",
   "metadata": {},
   "outputs": [],
   "source": [
    "step_one['Quantity']"
   ]
  },
  {
   "cell_type": "code",
   "execution_count": null,
   "id": "9e6ec764",
   "metadata": {},
   "outputs": [],
   "source": [
    "def create_quantity(columns):\n",
    "    if columns > 0:\n",
    "        return [columns, 0]\n",
    "    else:\n",
    "        return [0, -columns]"
   ]
  },
  {
   "cell_type": "code",
   "execution_count": null,
   "id": "14b8ca50",
   "metadata": {},
   "outputs": [],
   "source": [
    "step_one['Input'] = step_one['Quantity']\n",
    "step_one['Output'] = step_one['Quantity']"
   ]
  },
  {
   "cell_type": "code",
   "execution_count": null,
   "id": "f17cce07",
   "metadata": {},
   "outputs": [],
   "source": [
    "# step_one['Input'] = [value for value in step_one['Input'] if step_one['Input'].all() > 0]\n",
    "\n",
    "step_one.loc[0]"
   ]
  },
  {
   "cell_type": "code",
   "execution_count": null,
   "id": "8d5ef1a3",
   "metadata": {},
   "outputs": [],
   "source": [
    "step_one.rename(columns={\n",
    "    'Reference': 'Order Category',\n",
    "    'Unnamed: 13': 'Order Data',\n",
    "    'Unnamed: 14': 'Master Category',\n",
    "    'Unnamed: 15': 'Master Data',\n",
    "    'Unnamed: 16': 'Remark'\n",
    "}, inplace=True)"
   ]
  },
  {
   "cell_type": "code",
   "execution_count": null,
   "id": "27ba962b",
   "metadata": {},
   "outputs": [],
   "source": []
  },
  {
   "cell_type": "code",
   "execution_count": null,
   "id": "5985cc5e",
   "metadata": {},
   "outputs": [],
   "source": [
    "step_one = step_one.iloc[1: , :]"
   ]
  },
  {
   "cell_type": "code",
   "execution_count": null,
   "id": "e794b2c7",
   "metadata": {},
   "outputs": [],
   "source": [
    "# step_one"
   ]
  },
  {
   "cell_type": "code",
   "execution_count": null,
   "id": "f986f293",
   "metadata": {},
   "outputs": [],
   "source": [
    "# step_one.loc[step_one['Input'] > 0]\n",
    "def temp_filter(values):\n",
    "    return values if values > 0 else 0"
   ]
  },
  {
   "cell_type": "code",
   "execution_count": null,
   "id": "3ea36c79",
   "metadata": {},
   "outputs": [],
   "source": [
    "step_one.info()"
   ]
  },
  {
   "cell_type": "code",
   "execution_count": null,
   "id": "74009a3d",
   "metadata": {},
   "outputs": [],
   "source": [
    "# def filter_inout(row):\n",
    "#     return row['Quantity'] if row['Quantity'] > 0 else 0"
   ]
  },
  {
   "cell_type": "code",
   "execution_count": null,
   "id": "5faea119",
   "metadata": {},
   "outputs": [],
   "source": [
    "# step_one['input'] = step_one.apply(filter_inout, axis=1)"
   ]
  },
  {
   "cell_type": "code",
   "execution_count": null,
   "id": "125825ca",
   "metadata": {},
   "outputs": [],
   "source": []
  },
  {
   "cell_type": "code",
   "execution_count": null,
   "id": "88a5c7cc",
   "metadata": {},
   "outputs": [],
   "source": [
    "# pd.set_option('mode.chained_assignment', None)"
   ]
  },
  {
   "cell_type": "code",
   "execution_count": null,
   "id": "794aba40",
   "metadata": {},
   "outputs": [],
   "source": [
    "step_one.loc[step_one['Quantity'] > 0, 'Input'] = step_one['Quantity']\n",
    "step_one.loc[step_one['Quantity'] > 0, 'Output'] = 0\n",
    "step_one.loc[step_one['Quantity'] <= 0, 'Input'] = 0\n",
    "step_one.loc[step_one['Quantity'] <= 0, 'Output'] = -step_one['Quantity']"
   ]
  },
  {
   "cell_type": "code",
   "execution_count": null,
   "id": "815c3f6e",
   "metadata": {},
   "outputs": [],
   "source": [
    "cols = step_one.columns.tolist()"
   ]
  },
  {
   "cell_type": "code",
   "execution_count": null,
   "id": "069d7179",
   "metadata": {},
   "outputs": [],
   "source": [
    "cols"
   ]
  },
  {
   "cell_type": "code",
   "execution_count": null,
   "id": "9658878c",
   "metadata": {},
   "outputs": [],
   "source": [
    "cols = cols[:10] + [cols[-2], cols[-1]] + cols[10:-2]"
   ]
  },
  {
   "cell_type": "code",
   "execution_count": null,
   "id": "72d87f64",
   "metadata": {},
   "outputs": [],
   "source": [
    "step_one = step_one[cols]"
   ]
  },
  {
   "cell_type": "code",
   "execution_count": null,
   "id": "1ec72639",
   "metadata": {},
   "outputs": [],
   "source": [
    "step_one['Account code'] = [int(x) for x in (step_one['Movement Type'].str[:3])]"
   ]
  },
  {
   "cell_type": "code",
   "execution_count": null,
   "id": "334a7205",
   "metadata": {},
   "outputs": [],
   "source": [
    "step_one"
   ]
  },
  {
   "cell_type": "code",
   "execution_count": null,
   "id": "ea60e473",
   "metadata": {},
   "outputs": [],
   "source": [
    "cols = step_one.columns.tolist()"
   ]
  },
  {
   "cell_type": "code",
   "execution_count": null,
   "id": "58919e50",
   "metadata": {},
   "outputs": [],
   "source": [
    "cols = cols[:7] + [cols[-1]] + cols[7: -1]"
   ]
  },
  {
   "cell_type": "code",
   "execution_count": null,
   "id": "482757db",
   "metadata": {},
   "outputs": [],
   "source": [
    "step_one = step_one[cols]"
   ]
  },
  {
   "cell_type": "code",
   "execution_count": null,
   "id": "6f69d51c",
   "metadata": {},
   "outputs": [],
   "source": [
    "step_one"
   ]
  },
  {
   "cell_type": "code",
   "execution_count": null,
   "id": "4e90ee52",
   "metadata": {},
   "outputs": [],
   "source": [
    "columns_name = {\n",
    "    'H': 'Account code',\n",
    "    'p': 'Order Category',\n",
    "    'W': 'Material Type',\n",
    "    'X': 'Procurement'\n",
    "}\n",
    "\n",
    "nhap_vao = [None] * 7\n",
    "nhap_vao[0] = ((step_one['Account code'] == 101) & (step_one['Order Category'] == 'Purchase Order'))\n",
    "nhap_vao[1] = (step_one['Account code'] == 602)\n",
    "nhap_vao[2] = (step_one['Account code'] == 623)\n",
    "nhap_vao[3] = (step_one['Account code'] == 701)\n",
    "nhap_vao[4] = (step_one['Account code'] == 720)\n",
    "nhap_vao[5] = (step_one['Account code'] == 801)\n",
    "nhap_vao[6]= (step_one['Account code'] == 809)\n",
    "\n",
    "xuat_ra = [None] * 9\n",
    "xuat_ra[0] = ((step_one['Account code'] == 102) & (step_one['Order Category'] == 'Purchase Order'))\n",
    "xuat_ra[1] = (step_one['Account code'] == 201)\n",
    "xuat_ra[2] = (step_one['Account code'] == 261)\n",
    "xuat_ra[3] = (step_one['Account code'] == 601)\n",
    "xuat_ra[4] = (step_one['Account code'] == 609)\n",
    "xuat_ra[5] = (step_one['Account code'] == 702)\n",
    "xuat_ra[6] = (step_one['Account code'] == 712)\n",
    "xuat_ra[7] = (step_one['Account code'] == 721)\n",
    "xuat_ra[8] = (step_one['Account code'] == 803)\n",
    "\n",
    "thuyen_chuyen = [None] * 2\n",
    "thuyen_chuyen[0] = (step_one['Account code'].between(300, 400))\n",
    "thuyen_chuyen[1] = (step_one['Account code'] == 401)"
   ]
  },
  {
   "cell_type": "code",
   "execution_count": null,
   "id": "ea17c563",
   "metadata": {
    "scrolled": true
   },
   "outputs": [],
   "source": []
  },
  {
   "cell_type": "code",
   "execution_count": null,
   "id": "2c73fe0e",
   "metadata": {},
   "outputs": [],
   "source": [
    "# for i in range(len(nhap_vao)):\n",
    "#     nhap_vao[i] = step_one.loc[nhap_vao[i]]\n",
    "#     nhap_vao[i]['Tm_Rank'] = nhap_vao[i]['Material Type'].map(material_order_index)\n",
    "#     nhap_vao[i].sort_values(['Tm_Rank', 'Procurement'], inplace = True)\n",
    "#     nhap_vao[i].drop('Tm_Rank', 1, inplace = True)"
   ]
  },
  {
   "cell_type": "code",
   "execution_count": null,
   "id": "1b4f40d9",
   "metadata": {},
   "outputs": [],
   "source": [
    "def condition_to_data(arr):\n",
    "    material_type_order = ['ROH', 'HAWA', 'HALB', 'FERT']\n",
    "    material_order_index = dict(zip(material_type_order, range(len(material_type_order))))\n",
    "    for i in range(len(arr)):\n",
    "        arr[i] = step_one.loc[arr[i]]\n",
    "        arr[i]['Tm_Rank'] = arr[i]['Material Type'].map(material_order_index)\n",
    "        arr[i].sort_values(['Tm_Rank', 'Procurement'], inplace = True)\n",
    "        arr[i].drop('Tm_Rank', 1, inplace = True)"
   ]
  },
  {
   "cell_type": "code",
   "execution_count": null,
   "id": "8dd53814",
   "metadata": {},
   "outputs": [],
   "source": [
    "condition_to_data(nhap_vao)\n",
    "condition_to_data(xuat_ra)\n",
    "condition_to_data(thuyen_chuyen)"
   ]
  },
  {
   "cell_type": "code",
   "execution_count": null,
   "id": "e04f18e0",
   "metadata": {},
   "outputs": [],
   "source": [
    "thuyen_chuyen[0]"
   ]
  },
  {
   "cell_type": "code",
   "execution_count": null,
   "id": "0b1db0d9",
   "metadata": {},
   "outputs": [],
   "source": [
    "step_two = pd.concat(nhap_vao + xuat_ra + thuyen_chuyen)\n"
   ]
  },
  {
   "cell_type": "code",
   "execution_count": null,
   "id": "6bec92e3",
   "metadata": {},
   "outputs": [],
   "source": [
    "step_two"
   ]
  },
  {
   "cell_type": "code",
   "execution_count": null,
   "id": "8ffa7370",
   "metadata": {},
   "outputs": [],
   "source": [
    "condition_to_delete = ~(step_two['Account code'].isin([101, 102])) & (\n",
    "    ((step_two['Material Type'] == 'ROH') & (step_two['Procurement'] == 'E')) | \n",
    "    ((step_two['Material Type'] == 'HAWA') & (step_two['Procurement'] == 'E')) |\n",
    "    ((step_two['Material Type'] == 'HALB') & (step_two['Procurement'].isin(['E', 'X']))) | \n",
    "    ((step_two['Material Type'] == 'FERT') & (step_two['Procurement'].isin(['E', 'X'])))\n",
    ")\n",
    "step_two.drop(step_two[condition_to_delete].index, inplace = True)"
   ]
  },
  {
   "cell_type": "code",
   "execution_count": null,
   "id": "2051eca4",
   "metadata": {},
   "outputs": [],
   "source": [
    "SCM_RAW = step_two"
   ]
  },
  {
   "cell_type": "code",
   "execution_count": null,
   "id": "c76a96c7",
   "metadata": {},
   "outputs": [],
   "source": [
    "nhap_vao = [None] * 2\n",
    "nhap_vao[0] = (\n",
    "    (step_one['Account code'] == 101) & \n",
    "    (step_one['Order Category'] == 'Purchase Order') & \n",
    "    (step_one['Material Type'] == 'HALB') & \n",
    "    (step_one['Procurement'].isin(['E', 'X']))\n",
    ")\n",
    "            \n",
    "nhap_vao[1] = (\n",
    "        (step_one['Account code'].isin([602, 623, 701, 720, 801, 809])) &\n",
    "        (step_one['Material Type'] == 'HALB') & \n",
    "        (step_one['Procurement'].isin(['E', 'X']))\n",
    ")\n",
    "\n",
    "xuat_ra = [None] * 3\n",
    "xuat_ra[0] = (\n",
    "    (step_one['Account code'] == 102) & \n",
    "    (step_one['Order Category'] == 'Purchase Order') & \n",
    "    (step_one['Material Type'] == 'HALB') & \n",
    "    (step_one['Procurement'].isin(['E', 'X']))\n",
    ")\n",
    "\n",
    "xuat_ra[1] = (\n",
    "        (step_one['Account code'].isin([201, 601, 609, 702, 712, 721, 803])) &\n",
    "        (step_one['Material Type'] == 'HALB') & \n",
    "        (step_one['Procurement'].isin(['E', 'X']))\n",
    ")\n",
    "\n",
    "xuat_ra[2] = (\n",
    "        (step_one['Account code'] == 261) &\n",
    "        (\n",
    "            ((step_one['Material Type'] == 'HALB') & \n",
    "            (step_one['Procurement'].isin(['E', 'X']))) |\n",
    "            ((step_one['Material Type'] == 'FERT') & \n",
    "            (step_one['Procurement'].isin(['E', 'X'])))\n",
    "        )\n",
    ")\n",
    "\n",
    "thuyen_chuyen = [None]\n",
    "thuyen_chuyen[0] = (\n",
    "        (step_one['Account code'].between(300, 402)) &\n",
    "        (step_one['Material Type'] == 'HALB') & \n",
    "        (step_one['Procurement'].isin(['E', 'X']))\n",
    ")"
   ]
  },
  {
   "cell_type": "code",
   "execution_count": null,
   "id": "ff1bd65c",
   "metadata": {},
   "outputs": [],
   "source": [
    "step_one"
   ]
  },
  {
   "cell_type": "code",
   "execution_count": null,
   "id": "0eb40cff",
   "metadata": {},
   "outputs": [],
   "source": [
    "condition_to_data(nhap_vao)\n",
    "condition_to_data(xuat_ra)\n",
    "condition_to_data(thuyen_chuyen)"
   ]
  },
  {
   "cell_type": "code",
   "execution_count": null,
   "id": "889d3249",
   "metadata": {},
   "outputs": [],
   "source": [
    "SCM_WIP = pd.concat(nhap_vao + xuat_ra + thuyen_chuyen)"
   ]
  },
  {
   "cell_type": "code",
   "execution_count": null,
   "id": "69130399",
   "metadata": {},
   "outputs": [],
   "source": [
    "SCM_WIP.loc[(\n",
    "    (SCM_WIP['Account code'] == 261) &\n",
    "    (SCM_WIP['Material Type'] == 'FERT') &\n",
    "    (SCM_WIP['Location'].str.startswith('RW'))\n",
    "), 'Location'] = None"
   ]
  },
  {
   "cell_type": "code",
   "execution_count": null,
   "id": "ac2231f4",
   "metadata": {},
   "outputs": [],
   "source": [
    "nhap_vao = [None] * 2\n",
    "nhap_vao[0] = (\n",
    "    (step_one['Account code'] == 101) & \n",
    "    (step_one['Order Category'] == 'Production Order') & \n",
    "    (step_one['Material Type'] == 'FERT') & \n",
    "    (step_one['Procurement'].isin(['E', 'X']))\n",
    ")\n",
    "            \n",
    "nhap_vao[1] = (\n",
    "        (step_one['Account code'].isin([602, 623, 701, 720, 801, 809])) &\n",
    "        (step_one['Material Type'] == 'FERT') & \n",
    "        (step_one['Procurement'].isin(['E', 'X']))\n",
    ")\n",
    "\n",
    "xuat_ra = [None] * 2\n",
    "xuat_ra[0] = (\n",
    "    (step_one['Account code'] == 102) & \n",
    "    (step_one['Order Category'] == 'Production Order') & \n",
    "    (step_one['Material Type'] == 'FERT') & \n",
    "    (step_one['Procurement'].isin(['E', 'X']))\n",
    ")\n",
    "\n",
    "xuat_ra[1] = (\n",
    "        (step_one['Account code'].isin([201, 601, 609, 702, 712, 721, 803])) &\n",
    "        (step_one['Material Type'] == 'FERT') & \n",
    "        (step_one['Procurement'].isin(['E', 'X']))\n",
    ")\n",
    "\n",
    "thuyen_chuyen = [None]\n",
    "thuyen_chuyen[0] = (\n",
    "        (step_one['Account code'].between(300, 402)) &\n",
    "        (step_one['Material Type'] == 'FERT') & \n",
    "        (step_one['Procurement'].isin(['E', 'X']))\n",
    ")"
   ]
  },
  {
   "cell_type": "code",
   "execution_count": null,
   "id": "b1e3a651",
   "metadata": {},
   "outputs": [],
   "source": [
    "condition_to_data(nhap_vao)\n",
    "condition_to_data(xuat_ra)\n",
    "condition_to_data(thuyen_chuyen)\n",
    "SCM_FG = pd.concat(nhap_vao + xuat_ra + thuyen_chuyen)"
   ]
  },
  {
   "cell_type": "code",
   "execution_count": null,
   "id": "282fe121",
   "metadata": {},
   "outputs": [],
   "source": []
  },
  {
   "cell_type": "code",
   "execution_count": null,
   "id": "bc9cc88f",
   "metadata": {},
   "outputs": [],
   "source": [
    "print('RAW', SCM_RAW.shape)\n",
    "print('FG', SCM_FG.shape)\n",
    "print('WIP', SCM_WIP.shape)"
   ]
  },
  {
   "cell_type": "code",
   "execution_count": null,
   "id": "d725190a",
   "metadata": {},
   "outputs": [],
   "source": [
    "with pd.ExcelWriter('output/before_report.xlsx') as writer:  \n",
    "    SCM_RAW.to_excel(writer, sheet_name='RAW')\n",
    "    SCM_FG.to_excel(writer, sheet_name='FG')\n",
    "    SCM_WIP.to_excel(writer, sheet_name='WIP')"
   ]
  },
  {
   "cell_type": "code",
   "execution_count": null,
   "id": "7d65c412",
   "metadata": {},
   "outputs": [],
   "source": [
    "SCM_REPORT = SCM_RAW.pivot(index=[\"Unnamed: 0\" ,\"Material\"], columns=\"Account code\", values=\"Quantity\")\n",
    "SCM_REPORT.reset_index(inplace=True)\n",
    "del SCM_REPORT['Unnamed: 0']\n",
    "aggregation_functions = {\n",
    "    101: sum, 102: 'sum', \n",
    "    201: sum, 261: 'sum', \n",
    "    343: sum, 401: 'sum',\n",
    "    601: sum, 609: 'sum',\n",
    "    720: sum, 721: 'sum',\n",
    "}\n",
    "SCM_REPORT = SCM_REPORT.groupby(SCM_REPORT['Material']).aggregate(aggregation_functions)"
   ]
  },
  {
   "cell_type": "code",
   "execution_count": null,
   "id": "934d4116",
   "metadata": {},
   "outputs": [],
   "source": [
    "col_list = SCM_REPORT.columns.values\n",
    "col_list"
   ]
  },
  {
   "cell_type": "code",
   "execution_count": null,
   "id": "75569858",
   "metadata": {},
   "outputs": [],
   "source": [
    "def get_result(df):\n",
    "    result = df.pivot(index=[\"Unnamed: 0\" ,\"Material\"], columns=\"Account code\", values=\"Quantity\")\n",
    "    result.reset_index(inplace=True)\n",
    "    del result['Unnamed: 0']\n",
    "    aggregation_functions = {}\n",
    "    columns_order = [101, 102, 321, 343, 401, 720, 201, 261, 344, 555, 601, 609, 721]\n",
    "    for column in result.columns:\n",
    "        if isinstance(column, int): \n",
    "            aggregation_functions[column] = 'sum'\n",
    "    \n",
    "    final_col = []\n",
    "    for col in columns_order:\n",
    "        if col in result.columns:\n",
    "            final_col.append(col)\n",
    "    \n",
    "    result = result.groupby(result['Material']).aggregate(aggregation_functions)\n",
    "#     columns_order = ['Material'] + final_col\n",
    "    result = result[final_col]\n",
    "    result.reset_index(inplace=True)\n",
    "    result.index.name = None\n",
    "    return result"
   ]
  },
  {
   "cell_type": "code",
   "execution_count": null,
   "id": "088886c2",
   "metadata": {},
   "outputs": [],
   "source": [
    "RAW_REPORT = get_result(SCM_RAW)\n",
    "WIP_REPORT = get_result(SCM_WIP)\n",
    "FG_REPORT = get_result(SCM_FG)"
   ]
  },
  {
   "cell_type": "code",
   "execution_count": null,
   "id": "2a09df8b",
   "metadata": {},
   "outputs": [],
   "source": [
    "with pd.ExcelWriter('output/final_result.xlsx') as writer:  \n",
    "    RAW_REPORT.to_excel(writer, sheet_name='REPORT_RAW')\n",
    "    WIP_REPORT.to_excel(writer, sheet_name='REPORT_FG')\n",
    "    FG_REPORT.to_excel(writer, sheet_name='REPORT_WIP')"
   ]
  },
  {
   "cell_type": "code",
   "execution_count": null,
   "id": "d4a39377",
   "metadata": {},
   "outputs": [],
   "source": [
    "RAW_REPORT"
   ]
  },
  {
   "cell_type": "code",
   "execution_count": null,
   "id": "ff69418d",
   "metadata": {},
   "outputs": [],
   "source": [
    "score = [None]*65\n",
    "for num in range(1, 65):\n",
    "    score[num] = pd.read_excel(f'../data/Score 2021/{num:02}.xlsx')"
   ]
  },
  {
   "cell_type": "code",
   "execution_count": null,
   "id": "16b9bff8",
   "metadata": {},
   "outputs": [],
   "source": [
    "score.pop(0)\n",
    "result = pd.concat(score)"
   ]
  },
  {
   "cell_type": "code",
   "execution_count": null,
   "id": "a7613636",
   "metadata": {},
   "outputs": [],
   "source": [
    "result"
   ]
  },
  {
   "cell_type": "code",
   "execution_count": null,
   "id": "e94810bb",
   "metadata": {},
   "outputs": [],
   "source": [
    "result.to_excel('total_result.xlsx')"
   ]
  },
  {
   "cell_type": "code",
   "execution_count": null,
   "id": "1c705e39",
   "metadata": {},
   "outputs": [],
   "source": [
    "my_filter = ((result['Văn'].notnull()) & (result['Lịch Sử'].notnull()) & (result['Địa Lý'].notnull()))"
   ]
  },
  {
   "cell_type": "code",
   "execution_count": null,
   "id": "1108bd31",
   "metadata": {},
   "outputs": [],
   "source": [
    "khoi_c = result.loc[my_filter]"
   ]
  },
  {
   "cell_type": "code",
   "execution_count": null,
   "id": "12ee5b6d",
   "metadata": {},
   "outputs": [],
   "source": [
    "khoi_a['A1'] = khoi_a['Toán'] + khoi_a['Lý'] + khoi_a['Ngoại Ngữ']\n",
    "khoi_a['A'] = khoi_a['Toán'] + khoi_a['Lý'] + khoi_a['Hoá']"
   ]
  },
  {
   "cell_type": "code",
   "execution_count": null,
   "id": "a2e4781e",
   "metadata": {},
   "outputs": [],
   "source": [
    "khoi_a['TONG'] = khoi_a[[\"A1\", \"A\"]].max(axis=1)"
   ]
  },
  {
   "cell_type": "code",
   "execution_count": null,
   "id": "5fcf4794",
   "metadata": {},
   "outputs": [],
   "source": [
    "# khoi_a.reset_index(inplace=True)"
   ]
  },
  {
   "cell_type": "code",
   "execution_count": null,
   "id": "caa754f1",
   "metadata": {},
   "outputs": [],
   "source": [
    "khoi_a.sort_values(by='TONG', ascending=False, inplace=True)"
   ]
  },
  {
   "cell_type": "code",
   "execution_count": null,
   "id": "d26d57d5",
   "metadata": {},
   "outputs": [],
   "source": [
    "khoi_a.reset_index()"
   ]
  },
  {
   "cell_type": "code",
   "execution_count": null,
   "id": "d429d6c4",
   "metadata": {},
   "outputs": [],
   "source": [
    "khoi_a.to_excel('khoia.xlsx')"
   ]
  },
  {
   "cell_type": "code",
   "execution_count": null,
   "id": "518da8bc",
   "metadata": {},
   "outputs": [],
   "source": [
    "khoi_a"
   ]
  },
  {
   "cell_type": "code",
   "execution_count": null,
   "id": "adb27a05",
   "metadata": {},
   "outputs": [],
   "source": [
    "khoi_c['C'] = khoi_c['Văn'] + khoi_c['Lịch Sử'] + khoi_c['Địa Lý']"
   ]
  },
  {
   "cell_type": "code",
   "execution_count": null,
   "id": "e27db3e8",
   "metadata": {},
   "outputs": [],
   "source": [
    "khoi_c"
   ]
  },
  {
   "cell_type": "code",
   "execution_count": null,
   "id": "29ba06d0",
   "metadata": {},
   "outputs": [],
   "source": [
    "khoi_c.sort_values(by='C', ascending=False, inplace=True)"
   ]
  },
  {
   "cell_type": "code",
   "execution_count": null,
   "id": "d2737290",
   "metadata": {},
   "outputs": [],
   "source": [
    "khoi_c"
   ]
  },
  {
   "cell_type": "code",
   "execution_count": null,
   "id": "db19cea6",
   "metadata": {},
   "outputs": [],
   "source": [
    "khoi_c.to_excel('khoi_c.xlsx')"
   ]
  },
  {
   "cell_type": "code",
   "execution_count": null,
   "id": "66f88c3f",
   "metadata": {},
   "outputs": [],
   "source": []
  }
 ],
 "metadata": {
  "interpreter": {
   "hash": "07848780a58b79594e764c069cbda879259c8dd4f8d3e2f88df491e961ef6dc8"
  },
  "kernelspec": {
   "display_name": "Python 3 (ipykernel)",
   "language": "python",
   "name": "python3"
  },
  "language_info": {
   "codemirror_mode": {
    "name": "ipython",
    "version": 3
   },
   "file_extension": ".py",
   "mimetype": "text/x-python",
   "name": "python",
   "nbconvert_exporter": "python",
   "pygments_lexer": "ipython3",
   "version": "3.9.6"
  }
 },
 "nbformat": 4,
 "nbformat_minor": 5
}
