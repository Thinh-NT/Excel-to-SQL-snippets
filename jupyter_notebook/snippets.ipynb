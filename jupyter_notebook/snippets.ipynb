{
 "cells": [
  {
   "cell_type": "code",
   "execution_count": null,
   "source": [
    "import pandas as pd\r\n",
    "import numpy as np"
   ],
   "outputs": [],
   "metadata": {}
  },
  {
   "cell_type": "code",
   "execution_count": null,
   "source": [
    "pd.set_option('display.max_columns', 45)\r\n",
    "pd.set_option('display.max_rows', 50)"
   ],
   "outputs": [],
   "metadata": {}
  },
  {
   "cell_type": "code",
   "execution_count": null,
   "source": [
    "item_master = pd.read_excel(r\"data/item_master.xlsx\", header=1)\r\n",
    "material_history = pd.read_excel('data/Material Movement History.xlsx', header=1)"
   ],
   "outputs": [],
   "metadata": {}
  },
  {
   "cell_type": "code",
   "execution_count": null,
   "source": [
    "# item_master"
   ],
   "outputs": [],
   "metadata": {}
  },
  {
   "cell_type": "code",
   "execution_count": null,
   "source": [
    "# material_history"
   ],
   "outputs": [],
   "metadata": {}
  },
  {
   "cell_type": "code",
   "execution_count": null,
   "source": [
    "print('Material Shape: ', material_history.shape)\r\n",
    "print('Item master: ', item_master.shape)\r\n"
   ],
   "outputs": [],
   "metadata": {}
  },
  {
   "cell_type": "code",
   "execution_count": null,
   "source": [
    "material_history['Material'].value_counts()"
   ],
   "outputs": [],
   "metadata": {}
  },
  {
   "cell_type": "code",
   "execution_count": null,
   "source": [
    "temp_item_master = item_master[['Material', 'Material Type', 'Procurement']]"
   ],
   "outputs": [],
   "metadata": {}
  },
  {
   "cell_type": "code",
   "execution_count": null,
   "source": [
    "temp_item_master.loc[temp_item_master['Material'] == 'BN61-08214A']"
   ],
   "outputs": [],
   "metadata": {}
  },
  {
   "cell_type": "code",
   "execution_count": null,
   "source": [
    "step_one = pd.merge(material_history, temp_item_master, on=\"Material\", how=\"left\")"
   ],
   "outputs": [],
   "metadata": {}
  },
  {
   "cell_type": "code",
   "execution_count": null,
   "source": [
    "step_one"
   ],
   "outputs": [],
   "metadata": {}
  },
  {
   "cell_type": "code",
   "execution_count": null,
   "source": [
    "# step_one['Input'] = step_one['Quantity'] if step_one['Quantity'] > 0 else None\r\n",
    "# step_one['Output'] = -step_one['Quantity'] if step_one['Quantity'] < 0 else None\r\n"
   ],
   "outputs": [],
   "metadata": {}
  },
  {
   "cell_type": "code",
   "execution_count": null,
   "source": [
    "step_one['Quantity']"
   ],
   "outputs": [],
   "metadata": {}
  },
  {
   "cell_type": "code",
   "execution_count": null,
   "source": [
    "def create_quantity(columns):\r\n",
    "    if columns > 0:\r\n",
    "        return [columns, 0]\r\n",
    "    else:\r\n",
    "        return [0, -columns]"
   ],
   "outputs": [],
   "metadata": {}
  },
  {
   "cell_type": "code",
   "execution_count": null,
   "source": [
    "step_one['Input'] = step_one['Quantity']\r\n",
    "step_one['Output'] = step_one['Quantity']"
   ],
   "outputs": [],
   "metadata": {}
  },
  {
   "cell_type": "code",
   "execution_count": null,
   "source": [
    "# step_one['Input'] = [value for value in step_one['Input'] if step_one['Input'].all() > 0]\r\n",
    "\r\n",
    "step_one.loc[0]"
   ],
   "outputs": [],
   "metadata": {}
  },
  {
   "cell_type": "code",
   "execution_count": null,
   "source": [
    "step_one.rename(columns={\r\n",
    "    'Reference': 'Order Category',\r\n",
    "    'Unnamed: 13': 'Order Data',\r\n",
    "    'Unnamed: 14': 'Master Category',\r\n",
    "    'Unnamed: 15': 'Master Data',\r\n",
    "    'Unnamed: 16': 'Remark'\r\n",
    "}, inplace=True)"
   ],
   "outputs": [],
   "metadata": {}
  },
  {
   "cell_type": "code",
   "execution_count": null,
   "source": [],
   "outputs": [],
   "metadata": {}
  },
  {
   "cell_type": "code",
   "execution_count": null,
   "source": [
    "step_one = step_one.iloc[1: , :]"
   ],
   "outputs": [],
   "metadata": {}
  },
  {
   "cell_type": "code",
   "execution_count": null,
   "source": [
    "# step_one"
   ],
   "outputs": [],
   "metadata": {}
  },
  {
   "cell_type": "code",
   "execution_count": null,
   "source": [
    "# step_one.loc[step_one['Input'] > 0]\r\n",
    "def temp_filter(values):\r\n",
    "    return values if values > 0 else 0"
   ],
   "outputs": [],
   "metadata": {}
  },
  {
   "cell_type": "code",
   "execution_count": null,
   "source": [
    "step_one.info()"
   ],
   "outputs": [],
   "metadata": {}
  },
  {
   "cell_type": "code",
   "execution_count": null,
   "source": [
    "# def filter_inout(row):\r\n",
    "#     return row['Quantity'] if row['Quantity'] > 0 else 0"
   ],
   "outputs": [],
   "metadata": {}
  },
  {
   "cell_type": "code",
   "execution_count": null,
   "source": [
    "# step_one['input'] = step_one.apply(filter_inout, axis=1)"
   ],
   "outputs": [],
   "metadata": {}
  },
  {
   "cell_type": "code",
   "execution_count": null,
   "source": [],
   "outputs": [],
   "metadata": {}
  },
  {
   "cell_type": "code",
   "execution_count": null,
   "source": [
    "# pd.set_option('mode.chained_assignment', None)"
   ],
   "outputs": [],
   "metadata": {}
  },
  {
   "cell_type": "code",
   "execution_count": null,
   "source": [
    "step_one.loc[step_one['Quantity'] > 0, 'Input'] = step_one['Quantity']\r\n",
    "step_one.loc[step_one['Quantity'] > 0, 'Output'] = 0\r\n",
    "step_one.loc[step_one['Quantity'] <= 0, 'Input'] = 0\r\n",
    "step_one.loc[step_one['Quantity'] <= 0, 'Output'] = -step_one['Quantity']"
   ],
   "outputs": [],
   "metadata": {}
  },
  {
   "cell_type": "code",
   "execution_count": null,
   "source": [
    "cols = step_one.columns.tolist()"
   ],
   "outputs": [],
   "metadata": {}
  },
  {
   "cell_type": "code",
   "execution_count": null,
   "source": [
    "cols"
   ],
   "outputs": [],
   "metadata": {}
  },
  {
   "cell_type": "code",
   "execution_count": null,
   "source": [
    "cols = cols[:10] + [cols[-2], cols[-1]] + cols[10:-2]"
   ],
   "outputs": [],
   "metadata": {}
  },
  {
   "cell_type": "code",
   "execution_count": null,
   "source": [
    "step_one = step_one[cols]"
   ],
   "outputs": [],
   "metadata": {}
  },
  {
   "cell_type": "code",
   "execution_count": null,
   "source": [
    "step_one['Account code'] = [int(x) for x in (step_one['Movement Type'].str[:3])]"
   ],
   "outputs": [],
   "metadata": {}
  },
  {
   "cell_type": "code",
   "execution_count": null,
   "source": [
    "step_one"
   ],
   "outputs": [],
   "metadata": {}
  },
  {
   "cell_type": "code",
   "execution_count": null,
   "source": [
    "cols = step_one.columns.tolist()"
   ],
   "outputs": [],
   "metadata": {}
  },
  {
   "cell_type": "code",
   "execution_count": null,
   "source": [
    "cols = cols[:7] + [cols[-1]] + cols[7: -1]"
   ],
   "outputs": [],
   "metadata": {}
  },
  {
   "cell_type": "code",
   "execution_count": null,
   "source": [
    "step_one = step_one[cols]"
   ],
   "outputs": [],
   "metadata": {}
  },
  {
   "cell_type": "code",
   "execution_count": null,
   "source": [
    "step_one"
   ],
   "outputs": [],
   "metadata": {}
  },
  {
   "cell_type": "code",
   "execution_count": null,
   "source": [
    "columns_name = {\r\n",
    "    'H': 'Account code',\r\n",
    "    'p': 'Order Category',\r\n",
    "    'W': 'Material Type',\r\n",
    "    'X': 'Procurement'\r\n",
    "}\r\n",
    "\r\n",
    "nhap_vao = [None] * 7\r\n",
    "nhap_vao[0] = ((step_one['Account code'] == 101) & (step_one['Order Category'] == 'Purchase Order'))\r\n",
    "nhap_vao[1] = (step_one['Account code'] == 602)\r\n",
    "nhap_vao[2] = (step_one['Account code'] == 623)\r\n",
    "nhap_vao[3] = (step_one['Account code'] == 701)\r\n",
    "nhap_vao[4] = (step_one['Account code'] == 720)\r\n",
    "nhap_vao[5] = (step_one['Account code'] == 801)\r\n",
    "nhap_vao[6]= (step_one['Account code'] == 809)\r\n",
    "\r\n",
    "xuat_ra = [None] * 9\r\n",
    "xuat_ra[0] = ((step_one['Account code'] == 102) & (step_one['Order Category'] == 'Purchase Order'))\r\n",
    "xuat_ra[1] = (step_one['Account code'] == 201)\r\n",
    "xuat_ra[2] = (step_one['Account code'] == 261)\r\n",
    "xuat_ra[3] = (step_one['Account code'] == 601)\r\n",
    "xuat_ra[4] = (step_one['Account code'] == 609)\r\n",
    "xuat_ra[5] = (step_one['Account code'] == 702)\r\n",
    "xuat_ra[6] = (step_one['Account code'] == 712)\r\n",
    "xuat_ra[7] = (step_one['Account code'] == 721)\r\n",
    "xuat_ra[8] = (step_one['Account code'] == 803)\r\n",
    "\r\n",
    "thuyen_chuyen = [None] * 2\r\n",
    "thuyen_chuyen[0] = (step_one['Account code'].between(300, 400))\r\n",
    "thuyen_chuyen[1] = (step_one['Account code'] == 401)"
   ],
   "outputs": [],
   "metadata": {}
  },
  {
   "cell_type": "code",
   "execution_count": null,
   "source": [],
   "outputs": [],
   "metadata": {
    "scrolled": true
   }
  },
  {
   "cell_type": "code",
   "execution_count": null,
   "source": [
    "# for i in range(len(nhap_vao)):\r\n",
    "#     nhap_vao[i] = step_one.loc[nhap_vao[i]]\r\n",
    "#     nhap_vao[i]['Tm_Rank'] = nhap_vao[i]['Material Type'].map(material_order_index)\r\n",
    "#     nhap_vao[i].sort_values(['Tm_Rank', 'Procurement'], inplace = True)\r\n",
    "#     nhap_vao[i].drop('Tm_Rank', 1, inplace = True)"
   ],
   "outputs": [],
   "metadata": {}
  },
  {
   "cell_type": "code",
   "execution_count": null,
   "source": [
    "def condition_to_data(arr):\r\n",
    "    material_type_order = ['ROH', 'HAWA', 'HALB', 'FERT']\r\n",
    "    material_order_index = dict(zip(material_type_order, range(len(material_type_order))))\r\n",
    "    for i in range(len(arr)):\r\n",
    "        arr[i] = step_one.loc[arr[i]]\r\n",
    "        arr[i]['Tm_Rank'] = arr[i]['Material Type'].map(material_order_index)\r\n",
    "        arr[i].sort_values(['Tm_Rank', 'Procurement'], inplace = True)\r\n",
    "        arr[i].drop('Tm_Rank', 1, inplace = True)"
   ],
   "outputs": [],
   "metadata": {}
  },
  {
   "cell_type": "code",
   "execution_count": null,
   "source": [
    "condition_to_data(nhap_vao)\r\n",
    "condition_to_data(xuat_ra)\r\n",
    "condition_to_data(thuyen_chuyen)"
   ],
   "outputs": [],
   "metadata": {}
  },
  {
   "cell_type": "code",
   "execution_count": null,
   "source": [
    "thuyen_chuyen[0]"
   ],
   "outputs": [],
   "metadata": {}
  },
  {
   "cell_type": "code",
   "execution_count": null,
   "source": [
    "step_two = pd.concat(nhap_vao + xuat_ra + thuyen_chuyen)\r\n"
   ],
   "outputs": [],
   "metadata": {}
  },
  {
   "cell_type": "code",
   "execution_count": null,
   "source": [
    "step_two"
   ],
   "outputs": [],
   "metadata": {}
  },
  {
   "cell_type": "code",
   "execution_count": null,
   "source": [
    "condition_to_delete = ~(step_two['Account code'].isin([101, 102])) & (\r\n",
    "    ((step_two['Material Type'] == 'ROH') & (step_two['Procurement'] == 'E')) | \r\n",
    "    ((step_two['Material Type'] == 'HAWA') & (step_two['Procurement'] == 'E')) |\r\n",
    "    ((step_two['Material Type'] == 'HALB') & (step_two['Procurement'].isin(['E', 'X']))) | \r\n",
    "    ((step_two['Material Type'] == 'FERT') & (step_two['Procurement'].isin(['E', 'X'])))\r\n",
    ")\r\n",
    "step_two.drop(step_two[condition_to_delete].index, inplace = True)"
   ],
   "outputs": [],
   "metadata": {}
  },
  {
   "cell_type": "code",
   "execution_count": null,
   "source": [
    "SCM_RAW = step_two"
   ],
   "outputs": [],
   "metadata": {}
  },
  {
   "cell_type": "code",
   "execution_count": null,
   "source": [
    "nhap_vao = [None] * 2\r\n",
    "nhap_vao[0] = (\r\n",
    "    (step_one['Account code'] == 101) & \r\n",
    "    (step_one['Order Category'] == 'Purchase Order') & \r\n",
    "    (step_one['Material Type'] == 'HALB') & \r\n",
    "    (step_one['Procurement'].isin(['E', 'X']))\r\n",
    ")\r\n",
    "            \r\n",
    "nhap_vao[1] = (\r\n",
    "        (step_one['Account code'].isin([602, 623, 701, 720, 801, 809])) &\r\n",
    "        (step_one['Material Type'] == 'HALB') & \r\n",
    "        (step_one['Procurement'].isin(['E', 'X']))\r\n",
    ")\r\n",
    "\r\n",
    "xuat_ra = [None] * 3\r\n",
    "xuat_ra[0] = (\r\n",
    "    (step_one['Account code'] == 102) & \r\n",
    "    (step_one['Order Category'] == 'Purchase Order') & \r\n",
    "    (step_one['Material Type'] == 'HALB') & \r\n",
    "    (step_one['Procurement'].isin(['E', 'X']))\r\n",
    ")\r\n",
    "\r\n",
    "xuat_ra[1] = (\r\n",
    "        (step_one['Account code'].isin([201, 601, 609, 702, 712, 721, 803])) &\r\n",
    "        (step_one['Material Type'] == 'HALB') & \r\n",
    "        (step_one['Procurement'].isin(['E', 'X']))\r\n",
    ")\r\n",
    "\r\n",
    "xuat_ra[2] = (\r\n",
    "        (step_one['Account code'] == 261) &\r\n",
    "        (\r\n",
    "            ((step_one['Material Type'] == 'HALB') & \r\n",
    "            (step_one['Procurement'].isin(['E', 'X']))) |\r\n",
    "            ((step_one['Material Type'] == 'FERT') & \r\n",
    "            (step_one['Procurement'].isin(['E', 'X'])))\r\n",
    "        )\r\n",
    ")\r\n",
    "\r\n",
    "thuyen_chuyen = [None]\r\n",
    "thuyen_chuyen[0] = (\r\n",
    "        (step_one['Account code'].between(300, 402)) &\r\n",
    "        (step_one['Material Type'] == 'HALB') & \r\n",
    "        (step_one['Procurement'].isin(['E', 'X']))\r\n",
    ")"
   ],
   "outputs": [],
   "metadata": {}
  },
  {
   "cell_type": "code",
   "execution_count": null,
   "source": [
    "step_one"
   ],
   "outputs": [],
   "metadata": {}
  },
  {
   "cell_type": "code",
   "execution_count": null,
   "source": [
    "condition_to_data(nhap_vao)\r\n",
    "condition_to_data(xuat_ra)\r\n",
    "condition_to_data(thuyen_chuyen)"
   ],
   "outputs": [],
   "metadata": {}
  },
  {
   "cell_type": "code",
   "execution_count": null,
   "source": [
    "SCM_WIP = pd.concat(nhap_vao + xuat_ra + thuyen_chuyen)"
   ],
   "outputs": [],
   "metadata": {}
  },
  {
   "cell_type": "code",
   "execution_count": null,
   "source": [
    "SCM_WIP.loc[(\r\n",
    "    (SCM_WIP['Account code'] == 261) &\r\n",
    "    (SCM_WIP['Material Type'] == 'FERT') &\r\n",
    "    (SCM_WIP['Location'].str.startswith('RW'))\r\n",
    "), 'Location'] = None"
   ],
   "outputs": [],
   "metadata": {}
  },
  {
   "cell_type": "code",
   "execution_count": null,
   "source": [
    "nhap_vao = [None] * 2\r\n",
    "nhap_vao[0] = (\r\n",
    "    (step_one['Account code'] == 101) & \r\n",
    "    (step_one['Order Category'] == 'Production Order') & \r\n",
    "    (step_one['Material Type'] == 'FERT') & \r\n",
    "    (step_one['Procurement'].isin(['E', 'X']))\r\n",
    ")\r\n",
    "            \r\n",
    "nhap_vao[1] = (\r\n",
    "        (step_one['Account code'].isin([602, 623, 701, 720, 801, 809])) &\r\n",
    "        (step_one['Material Type'] == 'FERT') & \r\n",
    "        (step_one['Procurement'].isin(['E', 'X']))\r\n",
    ")\r\n",
    "\r\n",
    "xuat_ra = [None] * 2\r\n",
    "xuat_ra[0] = (\r\n",
    "    (step_one['Account code'] == 102) & \r\n",
    "    (step_one['Order Category'] == 'Production Order') & \r\n",
    "    (step_one['Material Type'] == 'FERT') & \r\n",
    "    (step_one['Procurement'].isin(['E', 'X']))\r\n",
    ")\r\n",
    "\r\n",
    "xuat_ra[1] = (\r\n",
    "        (step_one['Account code'].isin([201, 601, 609, 702, 712, 721, 803])) &\r\n",
    "        (step_one['Material Type'] == 'FERT') & \r\n",
    "        (step_one['Procurement'].isin(['E', 'X']))\r\n",
    ")\r\n",
    "\r\n",
    "thuyen_chuyen = [None]\r\n",
    "thuyen_chuyen[0] = (\r\n",
    "        (step_one['Account code'].between(300, 402)) &\r\n",
    "        (step_one['Material Type'] == 'FERT') & \r\n",
    "        (step_one['Procurement'].isin(['E', 'X']))\r\n",
    ")"
   ],
   "outputs": [],
   "metadata": {}
  },
  {
   "cell_type": "code",
   "execution_count": null,
   "source": [
    "condition_to_data(nhap_vao)\r\n",
    "condition_to_data(xuat_ra)\r\n",
    "condition_to_data(thuyen_chuyen)\r\n",
    "SCM_FG = pd.concat(nhap_vao + xuat_ra + thuyen_chuyen)"
   ],
   "outputs": [],
   "metadata": {}
  },
  {
   "cell_type": "code",
   "execution_count": null,
   "source": [],
   "outputs": [],
   "metadata": {}
  },
  {
   "cell_type": "code",
   "execution_count": null,
   "source": [
    "print('RAW', SCM_RAW.shape)\r\n",
    "print('FG', SCM_FG.shape)\r\n",
    "print('WIP', SCM_WIP.shape)"
   ],
   "outputs": [],
   "metadata": {}
  },
  {
   "cell_type": "code",
   "execution_count": null,
   "source": [
    "with pd.ExcelWriter('output/before_report.xlsx') as writer:  \r\n",
    "    SCM_RAW.to_excel(writer, sheet_name='RAW')\r\n",
    "    SCM_FG.to_excel(writer, sheet_name='FG')\r\n",
    "    SCM_WIP.to_excel(writer, sheet_name='WIP')"
   ],
   "outputs": [],
   "metadata": {}
  },
  {
   "cell_type": "code",
   "execution_count": null,
   "source": [
    "SCM_REPORT = SCM_RAW.pivot(index=[\"Unnamed: 0\" ,\"Material\"], columns=\"Account code\", values=\"Quantity\")\r\n",
    "SCM_REPORT.reset_index(inplace=True)\r\n",
    "del SCM_REPORT['Unnamed: 0']\r\n",
    "aggregation_functions = {\r\n",
    "    101: sum, 102: 'sum', \r\n",
    "    201: sum, 261: 'sum', \r\n",
    "    343: sum, 401: 'sum',\r\n",
    "    601: sum, 609: 'sum',\r\n",
    "    720: sum, 721: 'sum',\r\n",
    "}\r\n",
    "SCM_REPORT = SCM_REPORT.groupby(SCM_REPORT['Material']).aggregate(aggregation_functions)"
   ],
   "outputs": [],
   "metadata": {}
  },
  {
   "cell_type": "code",
   "execution_count": null,
   "source": [
    "col_list = SCM_REPORT.columns.values\r\n",
    "col_list"
   ],
   "outputs": [],
   "metadata": {}
  },
  {
   "cell_type": "code",
   "execution_count": null,
   "source": [
    "def get_result(df):\r\n",
    "    result = df.pivot(index=[\"Unnamed: 0\" ,\"Material\"], columns=\"Account code\", values=\"Quantity\")\r\n",
    "    result.reset_index(inplace=True)\r\n",
    "    del result['Unnamed: 0']\r\n",
    "    aggregation_functions = {}\r\n",
    "    columns_order = [101, 102, 321, 343, 401, 720, 201, 261, 344, 555, 601, 609, 721]\r\n",
    "    for column in result.columns:\r\n",
    "        if isinstance(column, int): \r\n",
    "            aggregation_functions[column] = 'sum'\r\n",
    "    \r\n",
    "    final_col = []\r\n",
    "    for col in columns_order:\r\n",
    "        if col in result.columns:\r\n",
    "            final_col.append(col)\r\n",
    "    \r\n",
    "    result = result.groupby(result['Material']).aggregate(aggregation_functions)\r\n",
    "#     columns_order = ['Material'] + final_col\r\n",
    "    result = result[final_col]\r\n",
    "    result.reset_index(inplace=True)\r\n",
    "    result.index.name = None\r\n",
    "    return result"
   ],
   "outputs": [],
   "metadata": {}
  },
  {
   "cell_type": "code",
   "execution_count": null,
   "source": [
    "RAW_REPORT = get_result(SCM_RAW)\r\n",
    "WIP_REPORT = get_result(SCM_WIP)\r\n",
    "FG_REPORT = get_result(SCM_FG)"
   ],
   "outputs": [],
   "metadata": {}
  },
  {
   "cell_type": "code",
   "execution_count": null,
   "source": [
    "with pd.ExcelWriter('output/final_result.xlsx') as writer:  \r\n",
    "    RAW_REPORT.to_excel(writer, sheet_name='REPORT_RAW')\r\n",
    "    WIP_REPORT.to_excel(writer, sheet_name='REPORT_FG')\r\n",
    "    FG_REPORT.to_excel(writer, sheet_name='REPORT_WIP')"
   ],
   "outputs": [],
   "metadata": {}
  },
  {
   "cell_type": "code",
   "execution_count": null,
   "source": [
    "RAW_REPORT"
   ],
   "outputs": [],
   "metadata": {}
  },
  {
   "cell_type": "code",
   "execution_count": null,
   "source": [
    "score = [None]*65\r\n",
    "for num in range(1, 65):\r\n",
    "    score[num] = pd.read_excel(f'../data/Score 2021/{num:02}.xlsx')"
   ],
   "outputs": [],
   "metadata": {}
  },
  {
   "cell_type": "code",
   "execution_count": null,
   "source": [
    "score.pop(0)\r\n",
    "result = pd.concat(score)"
   ],
   "outputs": [],
   "metadata": {}
  },
  {
   "cell_type": "code",
   "execution_count": null,
   "source": [
    "result"
   ],
   "outputs": [],
   "metadata": {}
  },
  {
   "cell_type": "code",
   "execution_count": null,
   "source": [
    "result.to_excel('total_result.xlsx')"
   ],
   "outputs": [],
   "metadata": {}
  },
  {
   "cell_type": "code",
   "execution_count": null,
   "source": [
    "my_filter = ((result['Văn'].notnull()) & (result['Lịch Sử'].notnull()) & (result['Địa Lý'].notnull()))"
   ],
   "outputs": [],
   "metadata": {}
  },
  {
   "cell_type": "code",
   "execution_count": null,
   "source": [
    "khoi_c = result.loc[my_filter]"
   ],
   "outputs": [],
   "metadata": {}
  },
  {
   "cell_type": "code",
   "execution_count": null,
   "source": [
    "khoi_a['A1'] = khoi_a['Toán'] + khoi_a['Lý'] + khoi_a['Ngoại Ngữ']\r\n",
    "khoi_a['A'] = khoi_a['Toán'] + khoi_a['Lý'] + khoi_a['Hoá']"
   ],
   "outputs": [],
   "metadata": {}
  },
  {
   "cell_type": "code",
   "execution_count": null,
   "source": [
    "khoi_a['TONG'] = khoi_a[[\"A1\", \"A\"]].max(axis=1)"
   ],
   "outputs": [],
   "metadata": {}
  },
  {
   "cell_type": "code",
   "execution_count": null,
   "source": [
    "# khoi_a.reset_index(inplace=True)"
   ],
   "outputs": [],
   "metadata": {}
  },
  {
   "cell_type": "code",
   "execution_count": null,
   "source": [
    "khoi_a.sort_values(by='TONG', ascending=False, inplace=True)"
   ],
   "outputs": [],
   "metadata": {}
  },
  {
   "cell_type": "code",
   "execution_count": null,
   "source": [
    "khoi_a.reset_index()"
   ],
   "outputs": [],
   "metadata": {}
  },
  {
   "cell_type": "code",
   "execution_count": null,
   "source": [
    "khoi_a.to_excel('khoia.xlsx')"
   ],
   "outputs": [],
   "metadata": {}
  },
  {
   "cell_type": "code",
   "execution_count": null,
   "source": [
    "khoi_a"
   ],
   "outputs": [],
   "metadata": {}
  },
  {
   "cell_type": "code",
   "execution_count": null,
   "source": [
    "khoi_c['C'] = khoi_c['Văn'] + khoi_c['Lịch Sử'] + khoi_c['Địa Lý']"
   ],
   "outputs": [],
   "metadata": {}
  },
  {
   "cell_type": "code",
   "execution_count": null,
   "source": [
    "khoi_c"
   ],
   "outputs": [],
   "metadata": {}
  },
  {
   "cell_type": "code",
   "execution_count": null,
   "source": [
    "khoi_c.sort_values(by='C', ascending=False, inplace=True)"
   ],
   "outputs": [],
   "metadata": {}
  },
  {
   "cell_type": "code",
   "execution_count": null,
   "source": [
    "khoi_c"
   ],
   "outputs": [],
   "metadata": {}
  },
  {
   "cell_type": "code",
   "execution_count": null,
   "source": [
    "khoi_c.to_excel('khoi_c.xlsx')"
   ],
   "outputs": [],
   "metadata": {}
  },
  {
   "cell_type": "code",
   "execution_count": null,
   "source": [],
   "outputs": [],
   "metadata": {}
  }
 ],
 "metadata": {
  "kernelspec": {
   "name": "python3",
   "display_name": "Python 3.9.6 64-bit ('env': venv)"
  },
  "language_info": {
   "codemirror_mode": {
    "name": "ipython",
    "version": 3
   },
   "file_extension": ".py",
   "mimetype": "text/x-python",
   "name": "python",
   "nbconvert_exporter": "python",
   "pygments_lexer": "ipython3",
   "version": "3.9.6"
  },
  "interpreter": {
   "hash": "07848780a58b79594e764c069cbda879259c8dd4f8d3e2f88df491e961ef6dc8"
  }
 },
 "nbformat": 4,
 "nbformat_minor": 5
}