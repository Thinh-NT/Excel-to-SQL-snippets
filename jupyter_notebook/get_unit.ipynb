{
 "cells": [
  {
   "cell_type": "code",
   "execution_count": 1,
   "metadata": {},
   "outputs": [],
   "source": [
    "import pandas as pd\n",
    "from os import walk\n",
    "\n",
    "pd.set_option('display.max_columns', 20)\n",
    "pd.set_option('display.max_rows', 20)"
   ]
  },
  {
   "cell_type": "code",
   "execution_count": 9,
   "metadata": {},
   "outputs": [],
   "source": [
    "path = 'Bang Unit'\n",
    "file_names = next(walk(path), (None, None, []))[2]\n",
    "file_names = (f'{path}/{x}' for x in file_names)\n",
    "\n",
    "units = []\n",
    "\n",
    "for x in file_names:\n",
    "    df = pd.read_excel(x, header=9, usecols=['Đơn vị tính'])\n",
    "    \n",
    "    units.extend(list(df['Đơn vị tính'].unique()))\n"
   ]
  },
  {
   "cell_type": "code",
   "execution_count": 10,
   "metadata": {},
   "outputs": [],
   "source": [
    "units = set(units)"
   ]
  },
  {
   "cell_type": "code",
   "execution_count": 2,
   "metadata": {},
   "outputs": [],
   "source": [
    "no1 = pd.read_excel('balance.xlsx')\n",
    "no2 = pd.read_excel('balassnce.xlsx')\n",
    "\n",
    "lst1 = no1['Balance'].unique()\n",
    "lst2 = no2['Balance'].unique()\n",
    "\n"
   ]
  },
  {
   "cell_type": "code",
   "execution_count": 3,
   "metadata": {},
   "outputs": [
    {
     "name": "stdout",
     "output_type": "stream",
     "text": [
      "461\n",
      "505\n",
      "497\n"
     ]
    }
   ],
   "source": [
    "result = set(lst1).intersection(lst2)\n",
    "\n",
    "print(len(result))\n",
    "print(len(lst1))\n",
    "print(len(lst2))"
   ]
  },
  {
   "cell_type": "code",
   "execution_count": null,
   "metadata": {},
   "outputs": [],
   "source": []
  }
 ],
 "metadata": {
  "interpreter": {
   "hash": "07848780a58b79594e764c069cbda879259c8dd4f8d3e2f88df491e961ef6dc8"
  },
  "kernelspec": {
   "display_name": "Python 3.9.6 64-bit ('env': venv)",
   "language": "python",
   "name": "python3"
  },
  "language_info": {
   "codemirror_mode": {
    "name": "ipython",
    "version": 3
   },
   "file_extension": ".py",
   "mimetype": "text/x-python",
   "name": "python",
   "nbconvert_exporter": "python",
   "pygments_lexer": "ipython3",
   "version": "3.10.1"
  },
  "orig_nbformat": 4
 },
 "nbformat": 4,
 "nbformat_minor": 2
}
