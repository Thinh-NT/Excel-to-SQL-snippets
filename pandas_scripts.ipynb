{
 "cells": [
  {
   "cell_type": "code",
   "execution_count": null,
   "id": "c30ab808",
   "metadata": {},
   "outputs": [],
   "source": [
    "import pandas as pd"
   ]
  },
  {
   "cell_type": "code",
   "execution_count": null,
   "id": "6c7047c9",
   "metadata": {},
   "outputs": [],
   "source": [
    "pd.set_option('display.max_columns', 45)\n",
    "pd.set_option('display.max_rows', 60)"
   ]
  },
  {
   "cell_type": "code",
   "execution_count": null,
   "id": "55bf0a9a",
   "metadata": {},
   "outputs": [],
   "source": [
    "# df = pd.read_excel('data/Dataset.xlsx', dtype={'PROVIDE_FLAG': str}, index_col=False)\n",
    "df = pd.read_excel('data/Dataset.xlsx', index_col=False)"
   ]
  },
  {
   "cell_type": "code",
   "execution_count": null,
   "id": "af636034",
   "metadata": {},
   "outputs": [],
   "source": [
    "df.shape"
   ]
  },
  {
   "cell_type": "code",
   "execution_count": null,
   "id": "56c10032",
   "metadata": {},
   "outputs": [],
   "source": [
    "df.info()"
   ]
  },
  {
   "cell_type": "code",
   "execution_count": null,
   "id": "d7f2835d",
   "metadata": {},
   "outputs": [],
   "source": [
    "df.set_index('ITEM_NO', inplace=True)"
   ]
  },
  {
   "cell_type": "code",
   "execution_count": null,
   "id": "f17ff694",
   "metadata": {},
   "outputs": [],
   "source": [
    "# df.count()"
   ]
  },
  {
   "cell_type": "code",
   "execution_count": null,
   "id": "932bbbb0",
   "metadata": {},
   "outputs": [],
   "source": [
    "df.columns"
   ]
  },
  {
   "cell_type": "code",
   "execution_count": null,
   "id": "ca9816f6",
   "metadata": {},
   "outputs": [],
   "source": [
    "# df.iloc[0]\n",
    "# df.iloc[[0, 1]]\n",
    "# df.iloc[[0, 1], [0, 2]]"
   ]
  },
  {
   "cell_type": "code",
   "execution_count": null,
   "id": "a4494ed2",
   "metadata": {},
   "outputs": [],
   "source": [
    "# df['ITEM_NO'].value_counts().head(30)"
   ]
  },
  {
   "cell_type": "code",
   "execution_count": null,
   "id": "8ac35174",
   "metadata": {
    "scrolled": true
   },
   "outputs": [],
   "source": [
    "# df.loc[df['ITEM_NO'] == 1][0:100]"
   ]
  },
  {
   "cell_type": "code",
   "execution_count": null,
   "id": "cf45d0a1",
   "metadata": {},
   "outputs": [],
   "source": [
    "# item_df = df[['ITEM_NO', 'PLANT', 'PROVIDE_FLAG']]"
   ]
  },
  {
   "cell_type": "code",
   "execution_count": null,
   "id": "d195c9be",
   "metadata": {
    "scrolled": true
   },
   "outputs": [],
   "source": [
    "# item_df"
   ]
  },
  {
   "cell_type": "code",
   "execution_count": null,
   "id": "04f399c1",
   "metadata": {
    "scrolled": true
   },
   "outputs": [],
   "source": [
    "# item_df = item_df.drop_duplicates(subset=None, keep='first', inplace=False).sort_values(by=['ITEM_NO'])\n",
    "# item_df[0:100]"
   ]
  },
  {
   "cell_type": "code",
   "execution_count": null,
   "id": "f1119dfb",
   "metadata": {},
   "outputs": [],
   "source": [
    "# item_df.to_excel('item_no.xlsx', index=False)"
   ]
  },
  {
   "cell_type": "code",
   "execution_count": null,
   "id": "9ba662c6",
   "metadata": {},
   "outputs": [],
   "source": [
    "storage_df = df['STORAGE_TYPE']"
   ]
  },
  {
   "cell_type": "code",
   "execution_count": null,
   "id": "e5b73ab8",
   "metadata": {},
   "outputs": [],
   "source": [
    "storage_df.value_counts()"
   ]
  },
  {
   "cell_type": "code",
   "execution_count": null,
   "id": "32b766d7",
   "metadata": {},
   "outputs": [],
   "source": [
    "storage_rewk = df[df['STORAGE_TYPE'] == 'REWK']"
   ]
  },
  {
   "cell_type": "code",
   "execution_count": null,
   "id": "ddc1abd3",
   "metadata": {
    "scrolled": true
   },
   "outputs": [],
   "source": [
    "storage_rewk"
   ]
  },
  {
   "cell_type": "code",
   "execution_count": null,
   "id": "56921ca6",
   "metadata": {},
   "outputs": [],
   "source": [
    "df.index"
   ]
  },
  {
   "cell_type": "code",
   "execution_count": null,
   "id": "95d75dda",
   "metadata": {
    "scrolled": false
   },
   "outputs": [],
   "source": [
    "# df.set_index('ITEM_NO', inplace=True)"
   ]
  },
  {
   "cell_type": "code",
   "execution_count": null,
   "id": "c8251a0d",
   "metadata": {},
   "outputs": [],
   "source": [
    "df.sort_index(inplace=True)"
   ]
  },
  {
   "cell_type": "code",
   "execution_count": null,
   "id": "35ea2b65",
   "metadata": {},
   "outputs": [],
   "source": [
    "df"
   ]
  },
  {
   "cell_type": "code",
   "execution_count": null,
   "id": "d571c070",
   "metadata": {},
   "outputs": [],
   "source": [
    "df['YEAR'] == 2021"
   ]
  },
  {
   "cell_type": "code",
   "execution_count": null,
   "id": "4923fdc5",
   "metadata": {},
   "outputs": [],
   "source": [
    "my_filter = ((df['STORAGE_TYPE'].isin(['WIP', 'NORM'])) | (df['DOCUMENT_TYPE'] == 'GR' ))"
   ]
  },
  {
   "cell_type": "code",
   "execution_count": null,
   "id": "678ae395",
   "metadata": {},
   "outputs": [],
   "source": [
    "df[my_filter]"
   ]
  },
  {
   "cell_type": "code",
   "execution_count": null,
   "id": "424790d8",
   "metadata": {
    "scrolled": false
   },
   "outputs": [],
   "source": [
    "df.loc[~my_filter, ['DOCUMENT', 'DOCUMENT_TYPE']]"
   ]
  },
  {
   "cell_type": "code",
   "execution_count": null,
   "id": "ccfdd24d",
   "metadata": {},
   "outputs": [],
   "source": [
    "df.columns = [column.upper() for column in df.columns]"
   ]
  },
  {
   "cell_type": "code",
   "execution_count": null,
   "id": "96e2b2dc",
   "metadata": {},
   "outputs": [],
   "source": [
    "df"
   ]
  },
  {
   "cell_type": "code",
   "execution_count": null,
   "id": "73120d68",
   "metadata": {},
   "outputs": [],
   "source": []
  }
 ],
 "metadata": {
  "kernelspec": {
   "display_name": "Python 3 (ipykernel)",
   "language": "python",
   "name": "python3"
  },
  "language_info": {
   "codemirror_mode": {
    "name": "ipython",
    "version": 3
   },
   "file_extension": ".py",
   "mimetype": "text/x-python",
   "name": "python",
   "nbconvert_exporter": "python",
   "pygments_lexer": "ipython3",
   "version": "3.9.6"
  }
 },
 "nbformat": 4,
 "nbformat_minor": 5
}
